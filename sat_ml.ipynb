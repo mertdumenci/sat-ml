{
 "cells": [
  {
   "cell_type": "markdown",
   "metadata": {
    "colab_type": "text",
    "id": "1MG3W5jUd5jK"
   },
   "source": [
    "# Data\n",
    "\n",
    "Let's load and explore the data."
   ]
  },
  {
   "cell_type": "code",
   "execution_count": 43,
   "metadata": {
    "colab": {
     "base_uri": "https://localhost:8080/",
     "height": 326
    },
    "colab_type": "code",
    "id": "FkG8hdhjXAWB",
    "outputId": "bf4a4982-3812-4506-85da-bda850716d56"
   },
   "outputs": [],
   "source": [
    "# # Filesystem, etc\n",
    "# from google.colab import drive\n",
    "# drive.mount('/content/drive')\n",
    "# !ls /content/drive\n",
    "\n",
    "# !git clone https://github.com/mertdumenci/sat-ml.git\n",
    "# !cd sat-ml && git checkout md/fall-2019 && git pull origin md/fall-2019\n",
    "\n",
    "# import sys\n",
    "# sys.path.append('sat-ml')\n",
    "\n",
    "# !pip3 install numpy torch matplotlib\n",
    "\n",
    "# Imports\n",
    "%matplotlib inline\n",
    "\n",
    "import numpy as np\n",
    "import pickle\n",
    "import matplotlib.pyplot as plt\n",
    "\n",
    "from satml import expression, fast_cnf\n",
    "\n",
    "import torch\n",
    "import torch.nn as nn\n",
    "import torch.nn.functional as F\n",
    "import torch.optim as optim\n",
    "import torch.utils.data as data"
   ]
  },
  {
   "cell_type": "code",
   "execution_count": 44,
   "metadata": {
    "colab": {
     "base_uri": "https://localhost:8080/",
     "height": 34
    },
    "colab_type": "code",
    "id": "EhDcCoURxg19",
    "outputId": "1d6558e2-e857-41d7-d85e-17d848365a7b"
   },
   "outputs": [
    {
     "name": "stdout",
     "output_type": "stream",
     "text": [
      "Loaded 606136 decisions\n"
     ]
    }
   ],
   "source": [
    "# Load data.\n",
    "\n",
    "TRAIN_SPLIT = 0.8\n",
    "DATA_FILE = 'data/sr_20_batch740000_formulas606136.pickle'\n",
    "# DATA_FILE = 'data/toy_batch0_formulas27.pickle'\n",
    "\n",
    "with open(DATA_FILE, 'rb') as f:\n",
    "    decisions = pickle.load(f)\n",
    "\n",
    "assert decisions is not None\n",
    "\n",
    "# Extract the maximum number of variables.\n",
    "len_vocab = max((max((max(c) for c in formula)) for formula, _ in decisions))\n",
    "len_class = len_vocab * 2\n",
    "\n",
    "print(\"Loaded {} decisions\".format(len(decisions)))\n",
    "\n",
    "# Split into training/test sets.\n",
    "num_training = int(len(decisions) * TRAIN_SPLIT)\n",
    "decisions_training, decisions_test = decisions[:num_training], decisions[num_training:]\n",
    "\n",
    "def encode_policy(policy) -> int:\n",
    "    \"\"\"Maps a policy tuple to an ordinal class.\"\"\"\n",
    "    idx, branch = policy\n",
    "    zero_idx = idx - 1\n",
    "    return zero_idx * 2 + int(branch)"
   ]
  },
  {
   "cell_type": "markdown",
   "metadata": {
    "colab_type": "text",
    "id": "8kkMlawMd20N"
   },
   "source": [
    "## Exploration"
   ]
  },
  {
   "cell_type": "markdown",
   "metadata": {
    "colab_type": "text",
    "id": "vnO9joxa4rhH"
   },
   "source": [
    "Let's look at how the approximate optimal heuristic is distributed. We're expecting a roughly uniform distribution over variable names, as variables are initially named randomly and our renaming is a bijection, preserving its randomness."
   ]
  },
  {
   "cell_type": "code",
   "execution_count": 45,
   "metadata": {
    "colab": {
     "base_uri": "https://localhost:8080/",
     "height": 281
    },
    "colab_type": "code",
    "id": "LUQRzf75zTFO",
    "outputId": "a5243042-fdc0-4005-a31a-63c49a349768"
   },
   "outputs": [
    {
     "data": {
      "image/png": "[encoded data removed]",
      "text/plain": [
       "<Figure size 432x288 with 1 Axes>"
      ]
     },
     "metadata": {
      "needs_background": "light"
     },
     "output_type": "display_data"
    }
   ],
   "source": [
    "picked_vars, picked_assignments = zip(*((int(var), int(assignment)) for _, (var, assignment) in decisions))\n",
    "picked_vars, picked_assignments = np.array(picked_vars), np.array(picked_assignments)\n",
    "\n",
    "n, bins, _ = plt.hist(picked_vars, len_vocab)\n",
    "plt.title('Best variables')\n",
    "plt.show()"
   ]
  },
  {
   "cell_type": "code",
   "execution_count": 46,
   "metadata": {
    "colab": {
     "base_uri": "https://localhost:8080/",
     "height": 281
    },
    "colab_type": "code",
    "id": "i7owfeQAzXLl",
    "outputId": "9414bb2d-142c-42ae-d89d-3fb6492c4811"
   },
   "outputs": [
    {
     "data": {
      "image/png": "[encoded data removed]",
      "text/plain": [
       "<Figure size 432x288 with 1 Axes>"
      ]
     },
     "metadata": {
      "needs_background": "light"
     },
     "output_type": "display_data"
    }
   ],
   "source": [
    "plt.hist(picked_assignments, 2)\n",
    "plt.title('Assignments')\n",
    "plt.show()"
   ]
  },
  {
   "cell_type": "markdown",
   "metadata": {
    "colab_type": "text",
    "id": "L_iFHcjU4vGk"
   },
   "source": [
    "# LSTM\n",
    "For the LSTM model, we need to convert our dataset of formulas in AST form into a sequence of tokens. We're going to do some preprocessing.\n",
    "\n"
   ]
  },
  {
   "cell_type": "markdown",
   "metadata": {
    "colab_type": "text",
    "id": "5QpPuavocHRh"
   },
   "source": [
    "## Data encoding"
   ]
  },
  {
   "cell_type": "code",
   "execution_count": 5,
   "metadata": {
    "colab": {},
    "colab_type": "code",
    "id": "ImylKus9zYHM"
   },
   "outputs": [],
   "source": [
    "len_token = len_vocab + 2 # for connectives AND and OR\n",
    "\n",
    "def one_hot(length: int, index: int):\n",
    "    element = -1 if index < 0 else 1\n",
    "    index = abs(index)\n",
    "    \n",
    "    v = [0] * length\n",
    "    v[index] = element\n",
    "    return v\n",
    "\n",
    "SPECIAL_TOKENS = {\n",
    "    expression.Type.AND: one_hot(len_token, len_vocab),\n",
    "    expression.Type.OR: one_hot(len_token, len_vocab + 1)\n",
    "}\n",
    "\n",
    "def tokenize_fastcnf(formula):\n",
    "    tokenized = []\n",
    "    for i, clause in enumerate(formula):\n",
    "        # Intersperse conjunct tokens\n",
    "        if i > 0:\n",
    "            tokenized.append(SPECIAL_TOKENS[expression.Type.AND])\n",
    "        \n",
    "        for j, literal in enumerate(clause):\n",
    "            # Intersperse disjunct tokens\n",
    "            if j > 0:\n",
    "                tokenized.append(SPECIAL_TOKENS[expression.Type.OR])\n",
    "            \n",
    "            zero_idx_var = literal - 1\n",
    "            tokenized.append(one_hot(len_token, zero_idx_var))\n",
    "\n",
    "    return torch.FloatTensor(tokenized)\n",
    "\n",
    "def tokenize_formula(formula):\n",
    "    return torch.FloatTensor(_tokenize_formula(formula))\n",
    "\n",
    "def _tokenize_formula(formula):\n",
    "    if not formula:\n",
    "        return []\n",
    "    \n",
    "    assert isinstance(formula, expression.Expression)\n",
    "    \n",
    "    typ, l_val, r_val = formula\n",
    "\n",
    "    # We're at a variable, embed it.\n",
    "    if typ == expression.Type.VAR:\n",
    "        # Variables are 1-indexed\n",
    "        zero_idx = int(l_val) - 1\n",
    "        return [one_hot(len_token, zero_idx)]\n",
    "    # We're at a NOT'd variable, reach one level below and embed it.\n",
    "    if typ == expression.Type.NOT:\n",
    "        assert l_val.typ == expression.Type.VAR, \"Expecting negations to be propagated to literal level\"\n",
    "        zero_idx = int(l_val.l_val) - 1\n",
    "        return [one_hot(len_token, -1 * zero_idx)]\n",
    "\n",
    "    # Else join tokenizations of branches into one sequence\n",
    "    return _tokenize_formula(l_val) + [SPECIAL_TOKENS[typ]] + _tokenize_formula(r_val)"
   ]
  },
  {
   "cell_type": "markdown",
   "metadata": {
    "colab_type": "text",
    "id": "jhdSFNoh4z5r"
   },
   "source": [
    "## Model\n",
    "\n",
    "Now let's define the LSTM model."
   ]
  },
  {
   "cell_type": "code",
   "execution_count": 6,
   "metadata": {
    "colab": {},
    "colab_type": "code",
    "id": "z_uz4-wkzsjY"
   },
   "outputs": [],
   "source": [
    "class LSTM(nn.Module):\n",
    "    def __init__(self, input_dim: int, hidden_dim: int, linear_1_dim: int, linear_2_dim: int, num_lstm_layers: int):\n",
    "        super(LSTM, self).__init__()\n",
    "        self.input_dim = input_dim\n",
    "        self.hidden_dim = hidden_dim\n",
    "        self.lstm = nn.LSTM(self.input_dim, self.hidden_dim, num_lstm_layers, batch_first=True)\n",
    "\n",
    "        self.linear_1 = nn.Linear(self.hidden_dim, linear_1_dim)\n",
    "        self.linear_2 = nn.Linear(linear_1_dim, linear_2_dim)\n",
    "        \n",
    "    def forward(self, packed_input):\n",
    "        \"\"\"Expects a packed sequence.\"\"\"\n",
    "        _, (hidden, _) = self.lstm(packed_input)\n",
    "        \n",
    "        x = hidden[-1]\n",
    "        x = self.linear_1(x)\n",
    "        x = self.linear_2(x)\n",
    "\n",
    "        return x"
   ]
  },
  {
   "cell_type": "markdown",
   "metadata": {
    "colab_type": "text",
    "id": "hKy96IQ-cP5F"
   },
   "source": [
    "# Graph Encoding\n",
    "\n",
    "For the graph encoding model, we need to convert our dataset of formulas in AST into adjacency matrices.\n",
    "\n",
    "$$M(i, j) = \\mathbb{1}\\{l_i \\in c_j\\}$$"
   ]
  },
  {
   "cell_type": "markdown",
   "metadata": {
    "colab_type": "text",
    "id": "Ig3yzsFkcazp"
   },
   "source": [
    "## Data encoding"
   ]
  },
  {
   "cell_type": "code",
   "execution_count": 47,
   "metadata": {
    "colab": {},
    "colab_type": "code",
    "id": "Gs7iU5PEcZ8J"
   },
   "outputs": [],
   "source": [
    "from functools import reduce\n",
    "\n",
    "def adjacency(formulas):\n",
    "    \"\"\"\n",
    "    Takes any number of formulas and returns an adjacency matrix representing the formulas\n",
    "    (disconnected if > 1) formulas.\n",
    "    \"\"\"\n",
    "    if not isinstance(formulas, list):\n",
    "        formulas = [formulas]\n",
    "\n",
    "    # Find how many variables we'll have, so that we can index beyond\n",
    "    # that set for negative literals. This is a running sum.\n",
    "    # 1, 4, 4, 6, 20, 30\n",
    "    num_variables = reduce(lambda l, f: l + [(0 if not l else l[-1]) + len(fast_cnf.free(f))], formulas, [])\n",
    "    num_clauses = 0\n",
    "\n",
    "    # The sparse tensor we're building up\n",
    "    indices = []\n",
    "\n",
    "    for n, formula in enumerate(formulas):\n",
    "        # How many variables have we seen before?\n",
    "        prev_vars = 0 if n == 0 else num_variables[n - 1]\n",
    "\n",
    "        for clause in formula:\n",
    "            for j, literal in enumerate(clause):\n",
    "                clause_index = num_clauses\n",
    "                # Literals are 1 indexed\n",
    "                literal_index = prev_vars + abs(literal) - 1\n",
    "                # Negative literals go after all positive literals\n",
    "                if literal < 0:\n",
    "                    literal_index += num_variables[-1]\n",
    "                \n",
    "                indices.append([literal_index, clause_index])\n",
    "\n",
    "            num_clauses += 1\n",
    "\n",
    "    indices = torch.LongTensor(indices)\n",
    "    values = torch.zeros(len(indices)) + 1\n",
    "    # 2m + n where m is the number of literals, and n is the number of clauses\n",
    "    size = torch.Size([2 * num_variables[-1], num_clauses])\n",
    "    adj_matrix = torch.sparse.FloatTensor(indices.t(), values, size)\n",
    "\n",
    "    return adj_matrix, [len(fast_cnf.free(f)) for f in formulas]"
   ]
  },
  {
   "cell_type": "markdown",
   "metadata": {
    "colab_type": "text",
    "id": "b7FoXh54T6IS"
   },
   "source": [
    "## Model"
   ]
  },
  {
   "cell_type": "code",
   "execution_count": 48,
   "metadata": {
    "colab": {},
    "colab_type": "code",
    "id": "aur1Jl2ViS-m"
   },
   "outputs": [],
   "source": [
    "class Net(nn.Module):\n",
    "    \"\"\"Multi-layer neural net.\"\"\"\n",
    "    def __init__(self, input_size, output_sizes):\n",
    "        super(Net, self).__init__()\n",
    "        self.layers = nn.ModuleList([\n",
    "            nn.Linear(input_size if i == 0 else output_sizes[i - 1], output_size)\n",
    "            for i, output_size in enumerate(output_sizes)\n",
    "        ])\n",
    "\n",
    "    def forward(self, inp):\n",
    "        x = inp\n",
    "        for lin in self.layers:\n",
    "            x = lin(x)\n",
    "\n",
    "        return x\n",
    "\n",
    "class GraphEmbeddingLSTM(nn.Module):\n",
    "    def __init__(self, dimension, iterations):\n",
    "        super(GraphEmbeddingLSTM, self).__init__()\n",
    "\n",
    "        self.dimension = dimension\n",
    "        self.iterations = iterations\n",
    "\n",
    "        # https://github.com/ryanzhangfan/NeuroSAT/blob/master/src/neurosat.py\n",
    "        # We learn the initialization vectors, hence their being linear transformations\n",
    "        # (to make Pytorch happy to learn these vectors)\n",
    "        self.l_init = nn.Linear(1, dimension)\n",
    "        self.c_init = nn.Linear(1, dimension)\n",
    "\n",
    "        # The message nets\n",
    "        self.l_msg = Net(dimension, [dimension, dimension, dimension])\n",
    "        self.c_msg = Net(dimension, [dimension, dimension, dimension])\n",
    "\n",
    "        # The update LSTM\n",
    "        self.l_u = nn.LSTM(dimension, dimension)\n",
    "        self.c_u = nn.LSTM(dimension, dimension)\n",
    "\n",
    "        # The classifier\n",
    "        self.l_cls = Net(dimension, [dimension, dimension, 1])\n",
    "\n",
    "    def forward(self, adj_matrix, num_vars):\n",
    "        # Get our L_init and C_init vectors.\n",
    "        x = torch.ones(1)\n",
    "        x.requires_grad = False\n",
    "        L_init = self.l_init(x)\n",
    "        C_init = self.c_init(x)\n",
    "\n",
    "        # Embedding matrices start out by tiling L_init, C_init.\n",
    "        n_lits, n_clauses = adj_matrix.shape\n",
    "        L_t = L_init.repeat(n_lits, 1)\n",
    "        C_t = C_init.repeat(n_clauses, 1)\n",
    "\n",
    "        # Hidden states for the update LSTMs\n",
    "        L_h = torch.zeros((1, n_lits, self.dimension))\n",
    "        L_0 = torch.zeros((1, n_lits, self.dimension))\n",
    "        C_h = torch.zeros((1, n_clauses, self.dimension))\n",
    "        C_0 = torch.zeros((1, n_clauses, self.dimension))\n",
    "        \n",
    "        for i in range(self.iterations):\n",
    "            l_agg = adj_matrix.t() @ self.l_msg(L_t)\n",
    "            c_agg = adj_matrix @ self.c_msg(C_t)\n",
    "            \n",
    "            # Clause update uses literal embedding aggregations\n",
    "            _, (C_h, _) = self.c_u(l_agg.unsqueeze(0), (C_h, C_0))\n",
    "            # Literal update uses clause embedding aggregations\n",
    "            _, (L_h, _) = self.l_u(c_agg.unsqueeze(0), (L_h, L_0))\n",
    "\n",
    "            # Unpack the hidden states to go back in the loop\n",
    "            C_t = C_h.squeeze(0)\n",
    "            L_t = L_h.squeeze(0)\n",
    "\n",
    "        # Classify the literal embeddings\n",
    "        L_imp = self.l_cls(L_t)\n",
    "        L_imp = L_imp.squeeze(1)\n",
    "        \n",
    "        # Unpack the batch adjacency matrix\n",
    "        L_imp_unpacked = []\n",
    "        \n",
    "        total_vars = len(L_imp) // 2\n",
    "        currently_seen_vars = 0\n",
    "        for n in enumerate(num_vars):\n",
    "            p_lits = L_imp[currently_seen_vars:currently_seen_vars + n]\n",
    "            n_lits = L_imp[total_vars + currently_seen_vars:total_vars + currently_seen_vars + n]\n",
    "            \n",
    "            L_imp_unpacked.append(p_lits + n_lits)\n",
    "            currently_seen_vars += n\n",
    "            \n",
    "        return torch.FloatTensor(L_imp_unpacked)"
   ]
  },
  {
   "cell_type": "code",
   "execution_count": 49,
   "metadata": {
    "colab": {},
    "colab_type": "code",
    "id": "aur1Jl2ViS-m"
   },
   "outputs": [],
   "source": [
    "class Net(nn.Module):\n",
    "    \"\"\"Multi-layer neural net.\"\"\"\n",
    "    def __init__(self, input_size, output_sizes):\n",
    "        super(Net, self).__init__()\n",
    "        self.layers = nn.ModuleList([\n",
    "            nn.Linear(input_size if i == 0 else output_sizes[i - 1], output_size)\n",
    "            for i, output_size in enumerate(output_sizes)\n",
    "        ])\n",
    "\n",
    "    def forward(self, inp):\n",
    "        x = inp\n",
    "        for lin in self.layers:\n",
    "            x = lin(x)\n",
    "\n",
    "        return x\n",
    "\n",
    "class GraphEmbeddingLSTM(nn.Module):\n",
    "    def __init__(self, dimension, iterations):\n",
    "        super(GraphEmbeddingLSTM, self).__init__()\n",
    "\n",
    "        self.dimension = dimension\n",
    "        self.iterations = iterations\n",
    "\n",
    "        # https://github.com/ryanzhangfan/NeuroSAT/blob/master/src/neurosat.py\n",
    "        # We learn the initialization vectors, hence their being linear transformations\n",
    "        # (to make Pytorch happy to learn these vectors)\n",
    "        self.l_init = nn.Linear(1, dimension)\n",
    "        self.c_init = nn.Linear(1, dimension)\n",
    "\n",
    "        # The message nets\n",
    "        self.l_msg = Net(dimension, [dimension, dimension, dimension])\n",
    "        self.c_msg = Net(dimension, [dimension, dimension, dimension])\n",
    "\n",
    "        # The update LSTM\n",
    "        self.l_u = nn.LSTM(dimension, dimension)\n",
    "        self.c_u = nn.LSTM(dimension, dimension)\n",
    "\n",
    "        # The classifier\n",
    "        self.l_cls = Net(dimension, [dimension, dimension, 1])\n",
    "\n",
    "    def forward(self, adj_matrix, num_vars):\n",
    "        # Get our L_init and C_init vectors.\n",
    "        x = torch.ones(1)\n",
    "        x.requires_grad = False\n",
    "        L_init = self.l_init(x)\n",
    "        C_init = self.c_init(x)\n",
    "\n",
    "        # Embedding matrices start out by tiling L_init, C_init.\n",
    "        n_lits, n_clauses = adj_matrix.shape\n",
    "        L_t = L_init.repeat(n_lits, 1)\n",
    "        C_t = C_init.repeat(n_clauses, 1)\n",
    "\n",
    "        # Hidden states for the update LSTMs\n",
    "        L_h = torch.zeros((1, n_lits, self.dimension))\n",
    "        L_0 = torch.zeros((1, n_lits, self.dimension))\n",
    "        C_h = torch.zeros((1, n_clauses, self.dimension))\n",
    "        C_0 = torch.zeros((1, n_clauses, self.dimension))\n",
    "        \n",
    "        for i in range(self.iterations):\n",
    "            l_agg = adj_matrix.t() @ self.l_msg(L_t)\n",
    "            c_agg = adj_matrix @ self.c_msg(C_t)\n",
    "            \n",
    "            # Clause update uses literal embedding aggregations\n",
    "            _, (C_h, _) = self.c_u(l_agg.unsqueeze(0), (C_h, C_0))\n",
    "            # Literal update uses clause embedding aggregations\n",
    "            _, (L_h, _) = self.l_u(c_agg.unsqueeze(0), (L_h, L_0))\n",
    "\n",
    "            # Unpack the hidden states to go back in the loop\n",
    "            C_t = C_h.squeeze(0)\n",
    "            L_t = L_h.squeeze(0)\n",
    "\n",
    "        # Classify the literal embeddings\n",
    "        L_imp = self.l_cls(L_t)\n",
    "        L_imp = L_imp.squeeze(1)\n",
    "        \n",
    "        # Unpack the batch adjacency matrix\n",
    "        L_imp_unpacked = []\n",
    "        \n",
    "        total_vars = len(L_imp) // 2\n",
    "        currently_seen_vars = 0\n",
    "        for n in num_vars:\n",
    "            p_lits = L_imp[currently_seen_vars:currently_seen_vars + n]\n",
    "            n_lits = L_imp[total_vars + currently_seen_vars:total_vars + currently_seen_vars + n]\n",
    "            lits = torch.cat((p_lits, n_lits))\n",
    "            \n",
    "            L_imp_unpacked.append(lits)\n",
    "            currently_seen_vars += n\n",
    "            \n",
    "        return torch.stack(L_imp_unpacked)\n",
    "\n",
    "# adj, n_v = adjacency([formula for formula, _ in decisions])\n",
    "\n",
    "# emb = GraphEmbeddingLSTM(40, 3)\n",
    "# emb(adj, n_v).shape"
   ]
  },
  {
   "cell_type": "markdown",
   "metadata": {
    "colab_type": "text",
    "id": "6clOqjWvPdWC"
   },
   "source": [
    "# Training loops"
   ]
  },
  {
   "cell_type": "markdown",
   "metadata": {
    "colab_type": "text",
    "id": "WueF3YnoTfnV"
   },
   "source": [
    "## Datasets\n"
   ]
  },
  {
   "cell_type": "code",
   "execution_count": 9,
   "metadata": {
    "colab": {},
    "colab_type": "code",
    "id": "xvFy4_lpUMn2"
   },
   "outputs": [],
   "source": [
    "class LSTMDataset(data.Dataset):\n",
    "    def __init__(self, fastcnf_decisions):\n",
    "        self.fastcnf_decisions = fastcnf_decisions\n",
    "        \n",
    "    def __len__(self):\n",
    "        return len(self.fastcnf_decisions)\n",
    "    \n",
    "    def __getitem__(self, index):\n",
    "        formula, policy = self.fastcnf_decisions[index]\n",
    "        return tokenize_fastcnf(formula), encode_policy(policy)\n",
    "    \n",
    "def lstm_collator(batch):\n",
    "    \"\"\"Expects `batch` to be a list of (X, y) pairs.\"\"\"\n",
    "    X, y = zip(*batch)\n",
    "    seq_lens = torch.tensor([len(seq) for seq in X])\n",
    "\n",
    "    padded_sequences = nn.utils.rnn.pad_sequence(X, batch_first=True)\n",
    "    packed_batch = nn.utils.rnn.pack_padded_sequence(\n",
    "        padded_sequences,\n",
    "        seq_lens,\n",
    "        batch_first=True,\n",
    "        enforce_sorted=False\n",
    "    )\n",
    "    \n",
    "    return packed_batch, torch.LongTensor(y)\n",
    "\n",
    "lstm_dataset_train = LSTMDataset(decisions_training)\n",
    "lstm_dataset_val = LSTMDataset(decisions_test)"
   ]
  },
  {
   "cell_type": "code",
   "execution_count": 50,
   "metadata": {
    "colab": {},
    "colab_type": "code",
    "id": "GrseX4fB3M1S"
   },
   "outputs": [],
   "source": [
    "class AdjacencyDataset(data.Dataset):\n",
    "    def __init__(self, fastcnf_decisions):\n",
    "        self.fastcnf_decisions = fastcnf_decisions\n",
    "        \n",
    "    def __len__(self):\n",
    "        return len(self.fastcnf_decisions)\n",
    "    \n",
    "    def __getitem__(self, index):\n",
    "        formula, policy = self.fastcnf_decisions[index]\n",
    "        return formula, encode_policy(policy)\n",
    "    \n",
    "def adj_collator(batch):\n",
    "    \"\"\"Expects `batch` to be a list of (X, y) pairs.\"\"\"\n",
    "    X, y = zip(*batch)\n",
    "    X = list(X)\n",
    "    \n",
    "    adj, num_vars = adjacency(X)\n",
    "    \n",
    "    return adj.to_dense(), torch.LongTensor(y), num_vars\n",
    "\n",
    "adj_dataset_train = AdjacencyDataset(decisions_training)\n",
    "adj_dataset_val = AdjacencyDataset(decisions_test)"
   ]
  },
  {
   "cell_type": "markdown",
   "metadata": {
    "colab_type": "text",
    "id": "ltQeSXfbT9je"
   },
   "source": [
    "## Training"
   ]
  },
  {
   "cell_type": "code",
   "execution_count": 53,
   "metadata": {
    "colab": {},
    "colab_type": "code",
    "id": "4IjSc1fAUt_q"
   },
   "outputs": [],
   "source": [
    "def evaluate_validation(model, loader_validation):\n",
    "    \"\"\"Evaluate a model on the validation set.\"\"\"\n",
    "    with torch.no_grad():\n",
    "        accuracy = 0\n",
    "\n",
    "        for batch in loader_validation:\n",
    "            X, y = batch[0], batch[1]\n",
    "            if torch.cuda.is_available():\n",
    "                X = X.cuda()\n",
    "                y = y.cuda()\n",
    "\n",
    "            y_pred = model(X, *batch[2:])\n",
    "\n",
    "            class_predictions = y_pred.max(1)[1]\n",
    "            num_accurate = class_predictions.eq(y).sum()\n",
    "\n",
    "            accuracy += float(num_accurate) / (y.shape[0] * len(loader_validation))\n",
    "\n",
    "    return accuracy\n",
    "\n",
    "def train_model(\n",
    "    model,\n",
    "    dataset_training,\n",
    "    dataset_validation,\n",
    "    collate_fn,\n",
    "    batch_size=64,\n",
    "    epochs=150\n",
    "    ):\n",
    "    \"\"\"Training loop.\"\"\"\n",
    "\n",
    "    # Set up the loaders\n",
    "    loader_opts = {\n",
    "        'collate_fn': collate_fn,\n",
    "        'batch_size': batch_size,\n",
    "        'shuffle': True,\n",
    "        'num_workers': 0\n",
    "    }\n",
    "\n",
    "    loader_train = data.DataLoader(dataset=dataset_training, **loader_opts)\n",
    "    loader_validation = data.DataLoader(dataset=dataset_validation, **loader_opts)\n",
    "\n",
    "    loss_fn = torch.nn.CrossEntropyLoss()\n",
    "    optimizer = torch.optim.Adam(model.parameters()) # Use the default LR schedule\n",
    "    print_every = 1\n",
    "\n",
    "    for t in range(epochs):\n",
    "        # These are over the dataset, so we pull them in each epoch\n",
    "        running_loss, running_accuracy, steps_accrued = 0, 0, 0\n",
    "\n",
    "        for step, batch in enumerate(loader_train):\n",
    "            X, y = batch[0], batch[1]\n",
    "            \n",
    "            model.zero_grad()\n",
    "            y_pred = model(X, *batch[2:])\n",
    "            loss = loss_fn(y_pred, y)\n",
    "            \n",
    "            loss.backward()\n",
    "            optimizer.step()\n",
    "            \n",
    "            with torch.no_grad():\n",
    "                steps_accrued += 1\n",
    "                class_predictions = y_pred.max(1)[1]            \n",
    "                num_accurate = class_predictions.eq(y).sum()\n",
    "                \n",
    "                running_loss += loss.item()\n",
    "                running_accuracy += float(num_accurate) / y.shape[0]\n",
    "            \n",
    "                if step % print_every == 0:\n",
    "                    print(f\"Epoch {t + 1}/{epochs} \"\n",
    "                        f\"Step {step + 1}/{len(loader_train)} \"\n",
    "                        f\"Train loss: {running_loss / steps_accrued} \"\n",
    "                        f\"Train acc: {running_accuracy / steps_accrued}\")\n",
    "                    \n",
    "        val_acc = evaluate_validation(model, loader_validation)\n",
    "        print(f\"Validation accuracy: {val_acc}\")"
   ]
  },
  {
   "cell_type": "markdown",
   "metadata": {
    "colab_type": "text",
    "id": "3r9ISA9vU4eP"
   },
   "source": [
    "### LSTM"
   ]
  },
  {
   "cell_type": "code",
   "execution_count": 0,
   "metadata": {
    "colab": {},
    "colab_type": "code",
    "id": "jVpebNEYTh2V"
   },
   "outputs": [],
   "source": [
    "lstm_model = LSTM(\n",
    "    input_dim=token_length,\n",
    "    hidden_dim=40,\n",
    "    linear_1_dim=60,\n",
    "    linear_2_dim=label_length,\n",
    "    num_lstm_layers=2\n",
    ")\n",
    "\n",
    "train_model(lstm_model, lstm_dataset_train, lstm_dataset_val, lstm_collator)"
   ]
  },
  {
   "cell_type": "markdown",
   "metadata": {
    "colab_type": "text",
    "id": "JgRDPhg4U7T1"
   },
   "source": [
    "### Graph Encoding"
   ]
  },
  {
   "cell_type": "code",
   "execution_count": null,
   "metadata": {
    "colab": {},
    "colab_type": "code",
    "id": "VSNGqaY-U8pj"
   },
   "outputs": [
    {
     "name": "stdout",
     "output_type": "stream",
     "text": [
      "Epoch 1/150 Step 1/7577 Train loss: 3.6887664794921875 Train acc: 0.0\n",
      "Epoch 1/150 Step 2/7577 Train loss: 3.689348578453064 Train acc: 0.0078125\n",
      "Epoch 1/150 Step 3/7577 Train loss: 3.689394553502401 Train acc: 0.010416666666666666\n",
      "Epoch 1/150 Step 4/7577 Train loss: 3.6900296211242676 Train acc: 0.0078125\n",
      "Epoch 1/150 Step 5/7577 Train loss: 3.6900628089904783 Train acc: 0.00625\n",
      "Epoch 1/150 Step 6/7577 Train loss: 3.689720312754313 Train acc: 0.010416666666666666\n",
      "Epoch 1/150 Step 7/7577 Train loss: 3.689623083387102 Train acc: 0.013392857142857142\n",
      "Epoch 1/150 Step 8/7577 Train loss: 3.689736396074295 Train acc: 0.015625\n",
      "Epoch 1/150 Step 9/7577 Train loss: 3.689564678404066 Train acc: 0.017361111111111112\n",
      "Epoch 1/150 Step 10/7577 Train loss: 3.689438796043396 Train acc: 0.01875\n",
      "Epoch 1/150 Step 11/7577 Train loss: 3.689337123524059 Train acc: 0.018465909090909092\n",
      "Epoch 1/150 Step 12/7577 Train loss: 3.689213752746582 Train acc: 0.01953125\n",
      "Epoch 1/150 Step 13/7577 Train loss: 3.689319060398982 Train acc: 0.019230769230769232\n",
      "Epoch 1/150 Step 14/7577 Train loss: 3.689314229147775 Train acc: 0.018973214285714284\n",
      "Epoch 1/150 Step 15/7577 Train loss: 3.6893001238505048 Train acc: 0.021875\n",
      "Epoch 1/150 Step 16/7577 Train loss: 3.689215824007988 Train acc: 0.0205078125\n",
      "Epoch 1/150 Step 17/7577 Train loss: 3.6892071471494785 Train acc: 0.021139705882352942\n",
      "Epoch 1/150 Step 18/7577 Train loss: 3.689152571890089 Train acc: 0.021701388888888888\n",
      "Epoch 1/150 Step 19/7577 Train loss: 3.689273144069471 Train acc: 0.022203947368421052\n",
      "Epoch 1/150 Step 20/7577 Train loss: 3.6892730236053466 Train acc: 0.021875\n",
      "Epoch 1/150 Step 21/7577 Train loss: 3.689258654912313 Train acc: 0.023065476190476192\n",
      "Epoch 1/150 Step 22/7577 Train loss: 3.689246242696589 Train acc: 0.0234375\n",
      "Epoch 1/150 Step 23/7577 Train loss: 3.689249733219976 Train acc: 0.022418478260869564\n",
      "Epoch 1/150 Step 24/7577 Train loss: 3.6892627477645874 Train acc: 0.022135416666666668\n",
      "Epoch 1/150 Step 25/7577 Train loss: 3.6892263412475588 Train acc: 0.021875\n",
      "Epoch 1/150 Step 26/7577 Train loss: 3.6892101764678955 Train acc: 0.02283653846153846\n",
      "Epoch 1/150 Step 27/7577 Train loss: 3.68917014863756 Train acc: 0.023148148148148147\n",
      "Epoch 1/150 Step 28/7577 Train loss: 3.689199754170009 Train acc: 0.022321428571428572\n",
      "Epoch 1/150 Step 29/7577 Train loss: 3.689178705215454 Train acc: 0.024245689655172414\n",
      "Epoch 1/150 Step 30/7577 Train loss: 3.689204454421997 Train acc: 0.023958333333333335\n"
     ]
    }
   ],
   "source": [
    "adj_model = GraphEmbeddingLSTM(140, 25)\n",
    "train_model(adj_model, adj_dataset_train, adj_dataset_val, adj_collator)"
   ]
  },
  {
   "cell_type": "code",
   "execution_count": null,
   "metadata": {},
   "outputs": [],
   "source": []
  }
 ],
 "metadata": {
  "accelerator": "GPU",
  "colab": {
   "collapsed_sections": [
    "L_iFHcjU4vGk"
   ],
   "machine_shape": "hm",
   "name": "sat-ml.ipynb",
   "provenance": [],
   "toc_visible": true
  },
  "kernelspec": {
   "display_name": "Python 3",
   "language": "python",
   "name": "python3"
  },
  "language_info": {
   "codemirror_mode": {
    "name": "ipython",
    "version": 3
   },
   "file_extension": ".py",
   "mimetype": "text/x-python",
   "name": "python",
   "nbconvert_exporter": "python",
   "pygments_lexer": "ipython3",
   "version": "3.7.4"
  }
 },
 "nbformat": 4,
 "nbformat_minor": 1
}
