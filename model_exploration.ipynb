{
 "cells": [
  {
   "cell_type": "code",
   "execution_count": 42,
   "metadata": {},
   "outputs": [
    {
     "name": "stdout",
     "output_type": "stream",
     "text": [
      "100\n",
      "Sample: 15 = False in (((((((((((((((((((((((((((((((((((((((((((((((((((((((((((((((((((((((((((((((((((((((((((((((((((((((((((((((((((((((((((((((((((((((((((((((((((((((((((((((((((((((((((((((((((((((((((((((((((((((((((((((((((((((((((((-28 ∨ (-13 ∨ -15)) ∧ (27 ∨ (-15 ∨ (22 ∨ -33)))) ∧ (-4 ∨ (-36 ∨ -23))) ∧ (22 ∨ (-35 ∨ -17))) ∧ (-1 ∨ 30)) ∧ (-18 ∨ (-16 ∨ (1 ∨ (-33 ∨ (-20 ∨ (-15 ∨ (13 ∨ 24)))))))) ∧ (14 ∨ (13 ∨ (-16 ∨ -1)))) ∧ (-1 ∨ 25)) ∧ (28 ∨ (9 ∨ (-3 ∨ -36)))) ∧ (-16 ∨ (-32 ∨ (-30 ∨ (4 ∨ -27))))) ∧ (21 ∨ (25 ∨ 7))) ∧ (33 ∨ (2 ∨ (35 ∨ (6 ∨ -15))))) ∧ (-19 ∨ (14 ∨ -23))) ∧ (9 ∨ (12 ∨ (-11 ∨ (38 ∨ -23))))) ∧ (-5 ∨ (-35 ∨ 39))) ∧ (-31 ∨ 11)) ∧ (30 ∨ (3 ∨ 16))) ∧ (-14 ∨ (31 ∨ -16))) ∧ (23 ∨ (-19 ∨ (-7 ∨ (38 ∨ (2 ∨ (11 ∨ (27 ∨ 30)))))))) ∧ (6 ∨ (-17 ∨ (-12 ∨ (31 ∨ (38 ∨ (15 ∨ 26))))))) ∧ (11 ∨ (12 ∨ (-39 ∨ 3)))) ∧ (-4 ∨ (-6 ∨ 18))) ∧ (-38 ∨ (-32 ∨ -14))) ∧ (-20 ∨ (-4 ∨ (22 ∨ (38 ∨ 26))))) ∧ (36 ∨ (3 ∨ (5 ∨ (-19 ∨ (-11 ∨ 12)))))) ∧ (8 ∨ (-33 ∨ (14 ∨ -1)))) ∧ (15 ∨ (22 ∨ (17 ∨ (-25 ∨ 13))))) ∧ (-26 ∨ (31 ∨ (29 ∨ (-28 ∨ -3))))) ∧ (12 ∨ (-29 ∨ 34))) ∧ (-27 ∨ (25 ∨ (-2 ∨ (6 ∨ (38 ∨ 18)))))) ∧ (-5 ∨ 25)) ∧ (-5 ∨ (12 ∨ (16 ∨ -38)))) ∧ (-17 ∨ (22 ∨ (-13 ∨ 25)))) ∧ (33 ∨ -16)) ∧ (-25 ∨ 7)) ∧ (19 ∨ 40)) ∧ (4 ∨ (-6 ∨ (29 ∨ 3)))) ∧ (3 ∨ 35)) ∧ (-36 ∨ (-10 ∨ 5))) ∧ (-14 ∨ (-2 ∨ (7 ∨ (-10 ∨ (34 ∨ (13 ∨ (17 ∨ 1)))))))) ∧ (18 ∨ (6 ∨ (-27 ∨ (-13 ∨ (-11 ∨ (-40 ∨ -7))))))) ∧ (23 ∨ (26 ∨ -15))) ∧ (27 ∨ (-31 ∨ (19 ∨ 18)))) ∧ (19 ∨ (13 ∨ -1))) ∧ (-26 ∨ (28 ∨ (-8 ∨ (-5 ∨ (-29 ∨ (20 ∨ 39))))))) ∧ (28 ∨ (31 ∨ -36))) ∧ (-21 ∨ 2)) ∧ (24 ∨ (-18 ∨ -31))) ∧ (-20 ∨ (19 ∨ (28 ∨ 7)))) ∧ (3 ∨ (-39 ∨ -38))) ∧ (-18 ∨ (-6 ∨ (-32 ∨ 23)))) ∧ (26 ∨ -36)) ∧ (-27 ∨ (-18 ∨ (-24 ∨ 16)))) ∧ (20 ∨ (27 ∨ -23))) ∧ (26 ∨ (-3 ∨ -1))) ∧ (-9 ∨ (25 ∨ (33 ∨ (-18 ∨ -6))))) ∧ (4 ∨ (-30 ∨ (33 ∨ -37)))) ∧ (-15 ∨ (25 ∨ -26))) ∧ (4 ∨ (-28 ∨ (30 ∨ (-16 ∨ (-36 ∨ (-10 ∨ (-20 ∨ (27 ∨ (-39 ∨ (17 ∨ (-11 ∨ (18 ∨ (-13 ∨ (-40 ∨ (-23 ∨ 22)))))))))))))))) ∧ (-35 ∨ (5 ∨ -27))) ∧ (20 ∨ 3)) ∧ (4 ∨ (30 ∨ -38))) ∧ (-38 ∨ (-5 ∨ -13))) ∧ (36 ∨ -14)) ∧ (14 ∨ (19 ∨ 24))) ∧ (-34 ∨ (-33 ∨ -40))) ∧ (-35 ∨ (4 ∨ 32))) ∧ (27 ∨ (24 ∨ (-7 ∨ -40)))) ∧ (6 ∨ (16 ∨ (11 ∨ (38 ∨ -26))))) ∧ (-12 ∨ (-37 ∨ (3 ∨ (5 ∨ (-25 ∨ (-22 ∨ (2 ∨ -26)))))))) ∧ (39 ∨ (36 ∨ (25 ∨ (-8 ∨ (9 ∨ (-33 ∨ (21 ∨ 15)))))))) ∧ (14 ∨ (12 ∨ 34))) ∧ (-40 ∨ -14)) ∧ (-25 ∨ (29 ∨ (9 ∨ 16)))) ∧ (-36 ∨ (-32 ∨ (-6 ∨ -40)))) ∧ (17 ∨ (36 ∨ 30))) ∧ (8 ∨ (-2 ∨ -32))) ∧ (19 ∨ (-9 ∨ (24 ∨ -11)))) ∧ (21 ∨ 12)) ∧ (-29 ∨ (-40 ∨ -31))) ∧ (-20 ∨ (-40 ∨ (-34 ∨ -8)))) ∧ (40 ∨ (29 ∨ -1))) ∧ (-13 ∨ (-38 ∨ (-30 ∨ (-22 ∨ 26))))) ∧ (10 ∨ -12)) ∧ (-17 ∨ (32 ∨ 20))) ∧ (-14 ∨ (-18 ∨ (23 ∨ (2 ∨ -1))))) ∧ (32 ∨ (-21 ∨ -29))) ∧ (-6 ∨ (-25 ∨ -29))) ∧ (-39 ∨ (-1 ∨ (3 ∨ -28)))) ∧ (12 ∨ (20 ∨ (-1 ∨ (34 ∨ (-15 ∨ 32)))))) ∧ (-14 ∨ (-16 ∨ -19))) ∧ (-9 ∨ (-33 ∨ (16 ∨ (10 ∨ -22))))) ∧ (-19 ∨ (-12 ∨ (-17 ∨ (16 ∨ (-11 ∨ (14 ∨ (-28 ∨ -35)))))))) ∧ (37 ∨ (-38 ∨ (-29 ∨ (23 ∨ (-5 ∨ (-33 ∨ (-30 ∨ (26 ∨ (35 ∨ -20)))))))))) ∧ (-30 ∨ (-6 ∨ -36))) ∧ (-37 ∨ (31 ∨ (20 ∨ (6 ∨ (-23 ∨ -40)))))) ∧ (13 ∨ (-4 ∨ 3))) ∧ (19 ∨ (-14 ∨ 37))) ∧ (-39 ∨ (-36 ∨ 34))) ∧ (-11 ∨ (32 ∨ 26))) ∧ (35 ∨ (9 ∨ (-32 ∨ (-38 ∨ (25 ∨ 27)))))) ∧ (-23 ∨ (-20 ∨ (-24 ∨ -15)))) ∧ (-1 ∨ (-10 ∨ (9 ∨ (13 ∨ 37))))) ∧ (37 ∨ (-6 ∨ (33 ∨ (7 ∨ 34))))) ∧ (23 ∨ (31 ∨ 4))) ∧ (8 ∨ (-35 ∨ (12 ∨ (40 ∨ (39 ∨ -15)))))) ∧ (2 ∨ (25 ∨ (6 ∨ (29 ∨ -20))))) ∧ (15 ∨ (5 ∨ -34))) ∧ (9 ∨ (-33 ∨ (-29 ∨ (40 ∨ (25 ∨ (-14 ∨ 34))))))) ∧ (33 ∨ (-16 ∨ (9 ∨ 15)))) ∧ (36 ∨ (6 ∨ (30 ∨ (5 ∨ 33))))) ∧ (6 ∨ (-21 ∨ (-38 ∨ (24 ∨ (27 ∨ 13)))))) ∧ (-23 ∨ (-17 ∨ 22))) ∧ (4 ∨ (11 ∨ -23))) ∧ (-9 ∨ (-33 ∨ 17))) ∧ (24 ∨ (-37 ∨ (13 ∨ (21 ∨ -8))))) ∧ (-16 ∨ (2 ∨ (-25 ∨ (17 ∨ -37))))) ∧ (-3 ∨ (35 ∨ 27))) ∧ (36 ∨ (11 ∨ (-23 ∨ (17 ∨ (-28 ∨ (40 ∨ 32))))))) ∧ (3 ∨ (-25 ∨ (40 ∨ 35)))) ∧ (30 ∨ (-25 ∨ -33))) ∧ (-19 ∨ -24)) ∧ (25 ∨ (27 ∨ 40))) ∧ (33 ∨ (3 ∨ (4 ∨ 29)))) ∧ (-36 ∨ (-37 ∨ 6))) ∧ (-24 ∨ (37 ∨ (40 ∨ (-1 ∨ (-34 ∨ 13)))))) ∧ (-38 ∨ (28 ∨ -4))) ∧ (-13 ∨ (-35 ∨ (3 ∨ (12 ∨ -18))))) ∧ (5 ∨ (-34 ∨ (35 ∨ 32)))) ∧ (25 ∨ 21)) ∧ (8 ∨ (-30 ∨ (4 ∨ (2 ∨ (-34 ∨ (17 ∨ (5 ∨ (33 ∨ 11))))))))) ∧ (6 ∨ 38)) ∧ (21 ∨ -4)) ∧ (-24 ∨ (32 ∨ -17))) ∧ (16 ∨ (-1 ∨ 33))) ∧ (19 ∨ (16 ∨ (-26 ∨ 32)))) ∧ (27 ∨ (17 ∨ (-38 ∨ (-39 ∨ (-33 ∨ (-30 ∨ 32))))))) ∧ (12 ∨ (13 ∨ -11))) ∧ (-29 ∨ (8 ∨ (-33 ∨ (-39 ∨ (-37 ∨ 24)))))) ∧ (4 ∨ 39)) ∧ (-9 ∨ (-23 ∨ 5))) ∧ (-9 ∨ (8 ∨ -32))) ∧ (29 ∨ (-8 ∨ 18))) ∧ (4 ∨ (-2 ∨ (3 ∨ 16)))) ∧ (-26 ∨ (-38 ∨ (-16 ∨ (12 ∨ 25))))) ∧ (-4 ∨ (12 ∨ 25))) ∧ (17 ∨ (-21 ∨ (11 ∨ (-16 ∨ -12))))) ∧ (3 ∨ 18)) ∧ (-24 ∨ (8 ∨ (33 ∨ -34)))) ∧ (-13 ∨ (-33 ∨ (23 ∨ (-4 ∨ (24 ∨ (-38 ∨ (-40 ∨ (-25 ∨ (-2 ∨ (-27 ∨ (-17 ∨ (-18 ∨ (29 ∨ (-21 ∨ (36 ∨ 7)))))))))))))))) ∧ (19 ∨ -2)) ∧ (-11 ∨ (21 ∨ -8))) ∧ (-4 ∨ (-31 ∨ (15 ∨ (-21 ∨ (-32 ∨ (-20 ∨ (-13 ∨ (-27 ∨ -28))))))))) ∧ (6 ∨ -20)) ∧ (3 ∨ (16 ∨ -34))) ∧ (25 ∨ (-10 ∨ (23 ∨ (39 ∨ 7))))) ∧ (16 ∨ (24 ∨ (-8 ∨ (-3 ∨ (-14 ∨ -28)))))) ∧ (-20 ∨ (-34 ∨ (11 ∨ (37 ∨ -10))))) ∧ (-15 ∨ (-11 ∨ (40 ∨ (3 ∨ (37 ∨ -7)))))) ∧ (-20 ∨ (9 ∨ 10))) ∧ (23 ∨ (-36 ∨ 31))) ∧ (-23 ∨ (-7 ∨ (10 ∨ (29 ∨ (35 ∨ (-14 ∨ (-21 ∨ (-30 ∨ (-19 ∨ -11)))))))))) ∧ (39 ∨ (35 ∨ (-19 ∨ 36)))) ∧ (13 ∨ (25 ∨ 2))) ∧ (35 ∨ (34 ∨ (10 ∨ (13 ∨ (-21 ∨ (6 ∨ (15 ∨ (-27 ∨ 3))))))))) ∧ (-10 ∨ (-21 ∨ (-13 ∨ 16)))) ∧ (-7 ∨ (-25 ∨ (4 ∨ (-37 ∨ -18))))) ∧ (29 ∨ 25)) ∧ (-38 ∨ (-25 ∨ (-36 ∨ 1)))) ∧ (20 ∨ (-18 ∨ (36 ∨ (-25 ∨ 32))))) ∧ (-17 ∨ (-22 ∨ 1))) ∧ (17 ∨ (-24 ∨ (-3 ∨ 2)))) ∧ (-37 ∨ (15 ∨ 29))) ∧ (-39 ∨ 6)) ∧ (15 ∨ (5 ∨ -19))) ∧ (5 ∨ (8 ∨ (-21 ∨ (-30 ∨ 23))))) ∧ (1 ∨ (-37 ∨ -25))) ∧ (-31 ∨ (26 ∨ (13 ∨ -21)))) ∧ (38 ∨ (-34 ∨ 15))) ∧ (16 ∨ (-3 ∨ 21))) ∧ (-10 ∨ -35)) ∧ (-29 ∨ (33 ∨ -4))) ∧ (27 ∨ (17 ∨ -18))) ∧ (-3 ∨ (-28 ∨ -23))) ∧ (6 ∨ (35 ∨ (40 ∨ (-15 ∨ -7))))) ∧ (-2 ∨ (-28 ∨ (27 ∨ -3)))) ∧ (10 ∨ (37 ∨ (6 ∨ 16)))) ∧ (30 ∨ (10 ∨ 17))) ∧ (29 ∨ (18 ∨ -2))) ∧ (12 ∨ (37 ∨ (-39 ∨ (-4 ∨ (40 ∨ (17 ∨ -23))))))) ∧ (21 ∨ 8)) ∧ (-31 ∨ -9)) ∧ (-27 ∨ (30 ∨ (32 ∨ -26)))) ∧ (-25 ∨ (-31 ∨ 34))) ∧ (9 ∨ (25 ∨ -11))) ∧ (-25 ∨ 39)) ∧ (19 ∨ (-12 ∨ 37))) ∧ (19 ∨ (-23 ∨ (-24 ∨ (-38 ∨ (-6 ∨ (13 ∨ (-31 ∨ -3)))))))) ∧ (-10 ∨ (26 ∨ -31))) ∧ (22 ∨ (21 ∨ (-30 ∨ (1 ∨ (35 ∨ (20 ∨ -4))))))) ∧ (8 ∨ (-7 ∨ -9))) ∧ (-33 ∨ (-25 ∨ -13))) ∧ (-3 ∨ (-2 ∨ 16))) ∧ (-38 ∨ (32 ∨ (-40 ∨ -39)))) ∧ (-18 ∨ (-35 ∨ (9 ∨ 39)))) ∧ (32 ∨ (9 ∨ (-29 ∨ (21 ∨ (30 ∨ (14 ∨ (-15 ∨ 37)))))))) ∧ (8 ∨ (28 ∨ 2))) ∧ (26 ∨ (-15 ∨ -4))) ∧ (23 ∨ (-38 ∨ (22 ∨ (-8 ∨ (5 ∨ 11)))))) ∧ (12 ∨ (29 ∨ (-4 ∨ -15)))) ∧ (29 ∨ -38)) ∧ (1 ∨ (-38 ∨ (-35 ∨ -23)))) ∧ (-2 ∨ (8 ∨ (22 ∨ (33 ∨ (20 ∨ (-12 ∨ (-9 ∨ (-11 ∨ -3))))))))) ∧ (6 ∨ (12 ∨ (34 ∨ (-38 ∨ (16 ∨ -11)))))) ∧ (11 ∨ (35 ∨ -30))) ∧ (28 ∨ (15 ∨ 9))) ∧ (31 ∨ (-25 ∨ 19))) ∧ (5 ∨ (7 ∨ (27 ∨ (6 ∨ (20 ∨ (12 ∨ (25 ∨ 38)))))))) ∧ (25 ∨ 35)) ∧ (-16 ∨ (19 ∨ -24))) ∧ (38 ∨ (-30 ∨ (-25 ∨ (-5 ∨ -37)))))\n"
     ]
    }
   ],
   "source": [
    "# Load data.\n",
    "\n",
    "import pickle\n",
    "from satml import expression\n",
    "\n",
    "DATA_FILE = 'data/sr_40.pickle'\n",
    "# This need not be constant for some models...\n",
    "NUM_VARIABLES = 40\n",
    "\n",
    "with open(DATA_FILE, 'rb') as f:\n",
    "    decisions = pickle.load(f)\n",
    "\n",
    "assert decisions is not None\n",
    "print(len(decisions))\n",
    "\n",
    "formula, (var, assignment) = decisions[0]\n",
    "print(\"Sample: {} = {} in {}\".format(var, assignment, expression.pprint(formula)))"
   ]
  },
  {
   "cell_type": "code",
   "execution_count": 43,
   "metadata": {},
   "outputs": [
    {
     "name": "stdout",
     "output_type": "stream",
     "text": [
      "[15 37 16 26  3 14 24 22 40 28 17  5  8 31 29 26 23 35 26  5 10 32 30 17\n",
      " 23 27 17 12 15  4  4 11 22  6 36  5 36  6 26 28 15 16 16  7  4 14  7 34\n",
      " 10  2 22 31  3 23 40 11 28 19 35 27 37  9 36 10 23 14 16 25 12 39 34  8\n",
      " 30  4 25 35 11 20 32  6 28 33 14 28 30 37  4 12 11 28  9 33 29 28 34 38\n",
      " 13 26 24 33]\n"
     ]
    }
   ],
   "source": [
    "# Some exploratory analysis.\n",
    "%matplotlib inline\n",
    "\n",
    "import matplotlib.pyplot as plt\n",
    "import numpy as np\n",
    "\n",
    "picked_vars, picked_assignments = zip(*((int(var), int(assignment)) for _, (var, assignment) in decisions))\n",
    "picked_vars, picked_assignments = np.array(picked_vars), np.array(picked_assignments)\n",
    "\n",
    "print(picked_vars)"
   ]
  },
  {
   "cell_type": "code",
   "execution_count": 44,
   "metadata": {},
   "outputs": [
    {
     "data": {
      "image/png": "[encoded data removed]",
      "text/plain": [
       "<Figure size 432x288 with 1 Axes>"
      ]
     },
     "metadata": {
      "needs_background": "light"
     },
     "output_type": "display_data"
    }
   ],
   "source": [
    "plt.hist(picked_vars, NUM_VARIABLES)\n",
    "plt.title('Best variables')\n",
    "plt.show()"
   ]
  },
  {
   "cell_type": "code",
   "execution_count": 41,
   "metadata": {},
   "outputs": [
    {
     "data": {
      "image/png": "[encoded data removed]",
      "text/plain": [
       "<Figure size 432x288 with 1 Axes>"
      ]
     },
     "metadata": {
      "needs_background": "light"
     },
     "output_type": "display_data"
    }
   ],
   "source": [
    "plt.hist(picked_assignments, 2)\n",
    "plt.title('Assignments')\n",
    "plt.show()"
   ]
  },
  {
   "cell_type": "code",
   "execution_count": null,
   "metadata": {},
   "outputs": [],
   "source": []
  }
 ],
 "metadata": {
  "kernelspec": {
   "display_name": "Python 3",
   "language": "python",
   "name": "python3"
  },
  "language_info": {
   "codemirror_mode": {
    "name": "ipython",
    "version": 3
   },
   "file_extension": ".py",
   "mimetype": "text/x-python",
   "name": "python",
   "nbconvert_exporter": "python",
   "pygments_lexer": "ipython3",
   "version": "3.7.4"
  }
 },
 "nbformat": 4,
 "nbformat_minor": 2
}
