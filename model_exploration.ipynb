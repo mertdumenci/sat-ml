{
 "cells": [
  {
   "cell_type": "markdown",
   "metadata": {},
   "source": [
    "# Data Loading and Exploration"
   ]
  },
  {
   "cell_type": "code",
   "execution_count": 1,
   "metadata": {
    "scrolled": true
   },
   "outputs": [
    {
     "name": "stdout",
     "output_type": "stream",
     "text": [
      "Loaded 9519 decisions\n"
     ]
    }
   ],
   "source": [
    "# Load data.\n",
    "\n",
    "import pickle\n",
    "from satml import expression\n",
    "\n",
    "TRAIN_SPLIT = 0.8\n",
    "DATA_FILE = 'data/sr_40.pickle'\n",
    "\n",
    "with open(DATA_FILE, 'rb') as f:\n",
    "    decisions = pickle.load(f)\n",
    "\n",
    "assert decisions is not None\n",
    "\n",
    "# Extract the maximum number of variables.\n",
    "# TODO(mert): Perhaps don't assume that the dataset is uniform in its set of free variables.\n",
    "sample_formula, _ = decisions[0]\n",
    "vocab_size = len(expression.free(sample_formula))\n",
    "\n",
    "print(\"Loaded {} decisions\".format(len(decisions)))"
   ]
  },
  {
   "cell_type": "markdown",
   "metadata": {},
   "source": [
    "Since there's no meaning to variable \"names\", and LSTMs will later try to assign some meaning to them, we're going to normalize them. The first variable we see is going to be `1`, second `2`, and so on."
   ]
  },
  {
   "cell_type": "code",
   "execution_count": 2,
   "metadata": {},
   "outputs": [],
   "source": [
    "def normalize_dataset(decisions):\n",
    "    norm_decisions = []\n",
    "    \n",
    "    for formula, (var, assignment) in decisions:\n",
    "        var_map = {}\n",
    "        formula = expression.rename(formula, var_map=var_map)\n",
    "        \n",
    "        norm_decisions.append((formula, (var_map[var], assignment)))\n",
    "        \n",
    "    return norm_decisions\n",
    "        \n",
    "decisions = normalize_dataset(decisions)"
   ]
  },
  {
   "cell_type": "markdown",
   "metadata": {},
   "source": [
    "Let's take a look at the normalized dataset."
   ]
  },
  {
   "cell_type": "code",
   "execution_count": 3,
   "metadata": {},
   "outputs": [
    {
     "name": "stdout",
     "output_type": "stream",
     "text": [
      "24 = False in formula: ((((((((((((((((((((((((((((((((((((((((((((((((((((((((((((((((((((((((((((((((((((((((((((((((((((((((((((((((((((((((((((((((((((((((((((((((((((((((((((((((((((((((((((((((((((((-1 ∨ (-2 ∨ (-3 ∨ (-4 ∨ (5 ∨ 6))))) ∧ (-7 ∨ (-8 ∨ (-9 ∨ (10 ∨ (-11 ∨ -12)))))) ∧ (-13 ∨ (-14 ∨ (-15 ∨ (6 ∨ (16 ∨ 3)))))) ∧ (1 ∨ (17 ∨ (18 ∨ 19)))) ∧ (-4 ∨ (-20 ∨ (-5 ∨ (21 ∨ (13 ∨ (-1 ∨ (-11 ∨ (-15 ∨ (-9 ∨ -22)))))))))) ∧ (-13 ∨ (-23 ∨ -24))) ∧ (-25 ∨ (17 ∨ (10 ∨ (-3 ∨ (-26 ∨ (-27 ∨ (28 ∨ -29)))))))) ∧ (-30 ∨ 9)) ∧ (31 ∨ (16 ∨ 11))) ∧ (32 ∨ (29 ∨ 18))) ∧ (33 ∨ (34 ∨ (-35 ∨ 3)))) ∧ (-19 ∨ 26)) ∧ (-17 ∨ (-36 ∨ (11 ∨ 35)))) ∧ (-3 ∨ (-32 ∨ (-37 ∨ 20)))) ∧ (-10 ∨ (-38 ∨ (32 ∨ (-26 ∨ -7))))) ∧ (-37 ∨ (2 ∨ (-23 ∨ 18)))) ∧ (-3 ∨ (-35 ∨ 17))) ∧ (-16 ∨ (9 ∨ (-12 ∨ 19)))) ∧ (-32 ∨ (-38 ∨ -35))) ∧ (-15 ∨ (19 ∨ (14 ∨ -27)))) ∧ (12 ∨ (29 ∨ (-34 ∨ (6 ∨ (17 ∨ (-36 ∨ -39))))))) ∧ (-30 ∨ (26 ∨ 25))) ∧ (21 ∨ (20 ∨ -2))) ∧ (1 ∨ (25 ∨ -4))) ∧ (19 ∨ (3 ∨ -40))) ∧ (-4 ∨ (18 ∨ (19 ∨ (15 ∨ (-25 ∨ (-12 ∨ (17 ∨ (-8 ∨ -28))))))))) ∧ (20 ∨ (-37 ∨ 19))) ∧ (33 ∨ (-36 ∨ (-6 ∨ (11 ∨ (-37 ∨ (40 ∨ 5))))))) ∧ (20 ∨ (-35 ∨ -15))) ∧ (-24 ∨ (31 ∨ (32 ∨ (19 ∨ 23))))) ∧ (-32 ∨ (-17 ∨ (-23 ∨ -37)))) ∧ (31 ∨ (7 ∨ (-36 ∨ (19 ∨ (-20 ∨ (-30 ∨ (-9 ∨ (1 ∨ (-27 ∨ (5 ∨ -38))))))))))) ∧ (13 ∨ (27 ∨ 36))) ∧ (7 ∨ (19 ∨ (-24 ∨ (-15 ∨ -16))))) ∧ (-11 ∨ (-5 ∨ (-25 ∨ (28 ∨ -17))))) ∧ (18 ∨ (-32 ∨ (-11 ∨ (-31 ∨ (37 ∨ -6)))))) ∧ (32 ∨ (4 ∨ (-19 ∨ (-20 ∨ (-10 ∨ 27)))))) ∧ (-9 ∨ (-33 ∨ 15))) ∧ (-35 ∨ (38 ∨ (25 ∨ 7)))) ∧ (-19 ∨ -26)) ∧ (27 ∨ (13 ∨ -34))) ∧ (-13 ∨ (37 ∨ (21 ∨ -20)))) ∧ (-35 ∨ (-4 ∨ 21))) ∧ (19 ∨ (18 ∨ 3))) ∧ (-20 ∨ (37 ∨ -8))) ∧ (29 ∨ (-18 ∨ (-28 ∨ 27)))) ∧ (-17 ∨ (-9 ∨ -35))) ∧ (31 ∨ -9)) ∧ (37 ∨ (4 ∨ (-11 ∨ (-18 ∨ (-15 ∨ 17)))))) ∧ (-10 ∨ (32 ∨ (23 ∨ (-12 ∨ -31))))) ∧ (13 ∨ (30 ∨ -23))) ∧ (-31 ∨ (-28 ∨ (15 ∨ (39 ∨ (-12 ∨ 13)))))) ∧ (-1 ∨ (38 ∨ -27))) ∧ (-34 ∨ (-4 ∨ (-39 ∨ 1)))) ∧ (26 ∨ (-2 ∨ -29))) ∧ (37 ∨ 24)) ∧ (-15 ∨ 27)) ∧ (-25 ∨ (-36 ∨ (-38 ∨ (-29 ∨ 34))))) ∧ (-4 ∨ (-24 ∨ (-38 ∨ -2)))) ∧ (31 ∨ (-19 ∨ 26))) ∧ (-35 ∨ (-25 ∨ 24))) ∧ (-40 ∨ (-11 ∨ 39))) ∧ (11 ∨ (33 ∨ 18))) ∧ (-31 ∨ (-16 ∨ (-13 ∨ (34 ∨ (1 ∨ 7)))))) ∧ (1 ∨ (-11 ∨ (22 ∨ -7)))) ∧ (1 ∨ (-14 ∨ (24 ∨ (-28 ∨ (25 ∨ (2 ∨ (40 ∨ (-31 ∨ -21))))))))) ∧ (-24 ∨ (-8 ∨ 37))) ∧ (-21 ∨ (-16 ∨ -14))) ∧ (-13 ∨ (-9 ∨ (-33 ∨ (3 ∨ 31))))) ∧ (-24 ∨ (2 ∨ (21 ∨ (-25 ∨ (-16 ∨ -1)))))) ∧ (24 ∨ (-13 ∨ 5))) ∧ (13 ∨ (38 ∨ (14 ∨ 25)))) ∧ (5 ∨ (-19 ∨ (-25 ∨ -1)))) ∧ (-30 ∨ (22 ∨ 37))) ∧ (-17 ∨ 14)) ∧ (26 ∨ (29 ∨ -40))) ∧ (11 ∨ (-12 ∨ (-14 ∨ -28)))) ∧ (-29 ∨ 38)) ∧ (-2 ∨ (35 ∨ (27 ∨ (-40 ∨ (-33 ∨ -16)))))) ∧ (7 ∨ (31 ∨ -9))) ∧ (-26 ∨ (4 ∨ 13))) ∧ (-2 ∨ (-40 ∨ (-23 ∨ -4)))) ∧ (1 ∨ (-38 ∨ (16 ∨ (25 ∨ (28 ∨ 22)))))) ∧ (-35 ∨ -10)) ∧ (-35 ∨ (-22 ∨ 6))) ∧ (32 ∨ (21 ∨ (26 ∨ 6)))) ∧ (-20 ∨ (29 ∨ (-23 ∨ (-34 ∨ -13))))) ∧ (-1 ∨ -20)) ∧ (16 ∨ (-14 ∨ -39))) ∧ (14 ∨ (-17 ∨ (35 ∨ 25)))) ∧ (-39 ∨ (6 ∨ -22))) ∧ (-17 ∨ (29 ∨ (-7 ∨ 26)))) ∧ (-32 ∨ (15 ∨ (-19 ∨ -28)))) ∧ (-17 ∨ (-4 ∨ (33 ∨ (-36 ∨ (14 ∨ (-23 ∨ (-34 ∨ (25 ∨ (-13 ∨ (-29 ∨ -18))))))))))) ∧ (17 ∨ (-33 ∨ 10))) ∧ (-23 ∨ (-37 ∨ (-26 ∨ (16 ∨ -9))))) ∧ (7 ∨ (2 ∨ (-26 ∨ -36)))) ∧ (3 ∨ (28 ∨ (-6 ∨ (32 ∨ (-14 ∨ (-7 ∨ 34))))))) ∧ (-17 ∨ (36 ∨ -4))) ∧ (-12 ∨ (-31 ∨ (-26 ∨ (27 ∨ 23))))) ∧ (-17 ∨ (19 ∨ (26 ∨ (-21 ∨ (-25 ∨ (-8 ∨ (13 ∨ (9 ∨ -20))))))))) ∧ (5 ∨ (-32 ∨ (-27 ∨ 3)))) ∧ (-17 ∨ (13 ∨ -32))) ∧ (-20 ∨ (11 ∨ 31))) ∧ (33 ∨ (39 ∨ -20))) ∧ (-18 ∨ -37)) ∧ (22 ∨ (1 ∨ (11 ∨ (-10 ∨ (-13 ∨ -17)))))) ∧ (35 ∨ (13 ∨ (21 ∨ -25)))) ∧ (-5 ∨ (31 ∨ -10))) ∧ (-22 ∨ (-32 ∨ 9))) ∧ (19 ∨ (8 ∨ 2))) ∧ (25 ∨ (24 ∨ (19 ∨ (9 ∨ 11))))) ∧ (38 ∨ (-20 ∨ (-1 ∨ -32)))) ∧ (17 ∨ (19 ∨ 35))) ∧ (40 ∨ (7 ∨ (5 ∨ 18)))) ∧ (-22 ∨ (-37 ∨ (-9 ∨ (-8 ∨ (-33 ∨ (-12 ∨ -13))))))) ∧ (14 ∨ (-40 ∨ (7 ∨ (-29 ∨ (20 ∨ 27)))))) ∧ (34 ∨ (-6 ∨ (-18 ∨ -24)))) ∧ (-7 ∨ 20)) ∧ (-38 ∨ 14)) ∧ (-16 ∨ (25 ∨ (9 ∨ (-21 ∨ (-22 ∨ -26)))))) ∧ (40 ∨ (32 ∨ (25 ∨ (-19 ∨ (-20 ∨ (4 ∨ (30 ∨ 8)))))))) ∧ (-31 ∨ -34)) ∧ (-32 ∨ (-14 ∨ (19 ∨ -31)))) ∧ (38 ∨ (-26 ∨ (-27 ∨ (33 ∨ (-11 ∨ (-15 ∨ 17))))))) ∧ (-14 ∨ (31 ∨ 19))) ∧ (2 ∨ (-31 ∨ 8))) ∧ (38 ∨ -20)) ∧ (-22 ∨ (-35 ∨ (-26 ∨ 17)))) ∧ (20 ∨ (-2 ∨ (33 ∨ (-40 ∨ -6))))) ∧ (-25 ∨ (-32 ∨ (-38 ∨ 35)))) ∧ (-18 ∨ (-33 ∨ (-37 ∨ (-21 ∨ (19 ∨ 4)))))) ∧ (7 ∨ (-11 ∨ 3))) ∧ (-9 ∨ (-27 ∨ -23))) ∧ (-11 ∨ (-4 ∨ -39))) ∧ (24 ∨ (16 ∨ (-15 ∨ (-29 ∨ -17))))) ∧ (-33 ∨ (-9 ∨ (24 ∨ 8)))) ∧ (20 ∨ (-34 ∨ -33))) ∧ (40 ∨ (31 ∨ (-19 ∨ (-4 ∨ -16))))) ∧ (-39 ∨ (40 ∨ (34 ∨ 35)))) ∧ (-5 ∨ 9)) ∧ (9 ∨ (37 ∨ (-39 ∨ (-33 ∨ (-19 ∨ (22 ∨ (30 ∨ (3 ∨ 31))))))))) ∧ (30 ∨ -9)) ∧ (-21 ∨ (-24 ∨ -38))) ∧ (-2 ∨ (38 ∨ -28))) ∧ (-15 ∨ (-3 ∨ (18 ∨ -28)))) ∧ (-4 ∨ (23 ∨ 39))) ∧ (-28 ∨ (13 ∨ (-31 ∨ (-25 ∨ (-24 ∨ (20 ∨ -5))))))) ∧ (-7 ∨ (2 ∨ 36))) ∧ (39 ∨ (-27 ∨ -17))) ∧ (22 ∨ (-16 ∨ (19 ∨ 28)))) ∧ (39 ∨ (22 ∨ (12 ∨ (23 ∨ (29 ∨ (11 ∨ (6 ∨ -38)))))))) ∧ (-11 ∨ -10)) ∧ (-40 ∨ (-30 ∨ (27 ∨ 5)))) ∧ (8 ∨ (36 ∨ -9))) ∧ (32 ∨ (15 ∨ (-16 ∨ -31)))) ∧ (6 ∨ (14 ∨ (33 ∨ (-16 ∨ (19 ∨ -29)))))) ∧ (-2 ∨ (19 ∨ (39 ∨ -33)))) ∧ (-32 ∨ -25)) ∧ (-8 ∨ (16 ∨ -33))) ∧ (40 ∨ (-18 ∨ (7 ∨ 14)))) ∧ (26 ∨ (-22 ∨ -9))) ∧ (27 ∨ (-29 ∨ (3 ∨ (15 ∨ -34))))) ∧ (-27 ∨ 3)) ∧ (40 ∨ (-28 ∨ (-14 ∨ (11 ∨ (33 ∨ (-19 ∨ (20 ∨ 38)))))))) ∧ (27 ∨ (31 ∨ (-16 ∨ 21)))) ∧ (-13 ∨ (-11 ∨ (4 ∨ 12)))) ∧ (39 ∨ (40 ∨ 35))) ∧ (7 ∨ (37 ∨ (6 ∨ (23 ∨ (-33 ∨ -12)))))) ∧ (15 ∨ (30 ∨ (-34 ∨ (-17 ∨ (35 ∨ 6)))))) ∧ (-8 ∨ (20 ∨ (10 ∨ (-38 ∨ 3))))) ∧ (-10 ∨ (35 ∨ (-29 ∨ (-38 ∨ (-31 ∨ (-6 ∨ (3 ∨ -34)))))))) ∧ (29 ∨ (36 ∨ (9 ∨ 26)))) ∧ (28 ∨ -32)) ∧ (-28 ∨ (8 ∨ 19))) ∧ (-16 ∨ 12)) ∧ (33 ∨ (37 ∨ (28 ∨ (32 ∨ 15))))) ∧ (-10 ∨ (-1 ∨ (36 ∨ (26 ∨ (-28 ∨ -37)))))) ∧ (2 ∨ (35 ∨ 27))) ∧ (39 ∨ (34 ∨ (9 ∨ (11 ∨ (31 ∨ (40 ∨ (15 ∨ (-13 ∨ 5))))))))) ∧ (-21 ∨ (-1 ∨ (10 ∨ (34 ∨ (22 ∨ (11 ∨ 7))))))) ∧ (-27 ∨ (-11 ∨ 30)))\n",
      "3 = False in formula: (((((((((((((((((((((((((((((((((((((((((((((((((((((((((((((((((((((((((((((((((((((((((((((((((((((((((((((((((((((((((((((((((((((((((((((((((((((((((((((((((((((((((((((((((((((((((((((((((((((((((((((((((((((((((((((((((((((((((((((((((((((((((((((((((((((((((((((((((((-1 ∨ -2) ∧ (-3 ∨ (4 ∨ -5))) ∧ (-6 ∨ (-7 ∨ (8 ∨ (-9 ∨ 10))))) ∧ (11 ∨ (-12 ∨ (13 ∨ (14 ∨ -2))))) ∧ (15 ∨ -16)) ∧ (17 ∨ (18 ∨ (19 ∨ -20)))) ∧ (21 ∨ (19 ∨ -5))) ∧ (16 ∨ (-22 ∨ (13 ∨ (-7 ∨ 9))))) ∧ (-20 ∨ (17 ∨ 21))) ∧ (23 ∨ (10 ∨ 24))) ∧ (-17 ∨ (-18 ∨ (-12 ∨ -24)))) ∧ (17 ∨ (-15 ∨ (3 ∨ (-11 ∨ (-7 ∨ (-9 ∨ (-8 ∨ -25)))))))) ∧ (-26 ∨ (-3 ∨ (20 ∨ -15)))) ∧ (1 ∨ (24 ∨ 27))) ∧ (-28 ∨ (26 ∨ (25 ∨ (22 ∨ 14))))) ∧ (29 ∨ (26 ∨ -12))) ∧ (-22 ∨ (3 ∨ (-20 ∨ (26 ∨ (-8 ∨ 13)))))) ∧ (16 ∨ (-11 ∨ (21 ∨ 17)))) ∧ (10 ∨ (-8 ∨ 3))) ∧ (-13 ∨ (-3 ∨ (25 ∨ 22)))) ∧ (-1 ∨ (24 ∨ -17))) ∧ (-30 ∨ (20 ∨ 4))) ∧ (30 ∨ (-1 ∨ -4))) ∧ (-21 ∨ (-18 ∨ 6))) ∧ (16 ∨ (-31 ∨ (-32 ∨ (33 ∨ -1))))) ∧ (1 ∨ (-25 ∨ (-8 ∨ (-15 ∨ 6))))) ∧ (15 ∨ 5)) ∧ (-16 ∨ (14 ∨ (30 ∨ (-28 ∨ 18))))) ∧ (21 ∨ (-8 ∨ (34 ∨ -17)))) ∧ (35 ∨ (27 ∨ (16 ∨ (34 ∨ -15))))) ∧ (21 ∨ (10 ∨ 1))) ∧ (30 ∨ (-33 ∨ (1 ∨ (36 ∨ (31 ∨ -34)))))) ∧ (-10 ∨ (34 ∨ (-36 ∨ -14)))) ∧ (6 ∨ (-2 ∨ -23))) ∧ (-22 ∨ 3)) ∧ (25 ∨ (5 ∨ (27 ∨ (-19 ∨ -22))))) ∧ (10 ∨ (-34 ∨ (35 ∨ 22)))) ∧ (-9 ∨ (-18 ∨ (-36 ∨ -30)))) ∧ (22 ∨ (-17 ∨ (4 ∨ 6)))) ∧ (-17 ∨ (12 ∨ (29 ∨ -19)))) ∧ (12 ∨ (9 ∨ (2 ∨ (-6 ∨ 36))))) ∧ (-3 ∨ (33 ∨ (-27 ∨ (11 ∨ -32))))) ∧ (-26 ∨ (-25 ∨ (-37 ∨ (-31 ∨ 38))))) ∧ (39 ∨ (16 ∨ (-1 ∨ (-13 ∨ 18))))) ∧ (18 ∨ (11 ∨ 36))) ∧ (-18 ∨ (-40 ∨ -2))) ∧ (-14 ∨ 13)) ∧ (5 ∨ (-10 ∨ 23))) ∧ (32 ∨ -28)) ∧ (-36 ∨ (6 ∨ (-40 ∨ (-9 ∨ -22))))) ∧ (-20 ∨ (-31 ∨ (-6 ∨ -34)))) ∧ (22 ∨ (-10 ∨ (-9 ∨ (14 ∨ (16 ∨ (-8 ∨ (-1 ∨ (-35 ∨ (-19 ∨ 25)))))))))) ∧ (18 ∨ (36 ∨ (16 ∨ 8)))) ∧ (-24 ∨ (-35 ∨ (-30 ∨ -5)))) ∧ (23 ∨ (-13 ∨ -39))) ∧ (-19 ∨ (6 ∨ (-35 ∨ -13)))) ∧ (7 ∨ (6 ∨ 21))) ∧ (32 ∨ (38 ∨ (14 ∨ -21)))) ∧ (9 ∨ (-4 ∨ (-2 ∨ (-8 ∨ (34 ∨ 24)))))) ∧ (-12 ∨ (20 ∨ 36))) ∧ (-30 ∨ (27 ∨ (-33 ∨ (-26 ∨ (-17 ∨ (14 ∨ 8))))))) ∧ (-10 ∨ (-30 ∨ (-8 ∨ (28 ∨ 38))))) ∧ (19 ∨ (14 ∨ (-25 ∨ -16)))) ∧ (29 ∨ (-12 ∨ (1 ∨ (-8 ∨ -22))))) ∧ (35 ∨ (36 ∨ 8))) ∧ (34 ∨ (-30 ∨ (3 ∨ (-10 ∨ -36))))) ∧ (39 ∨ -33)) ∧ (12 ∨ (31 ∨ 14))) ∧ (14 ∨ (24 ∨ -32))) ∧ (-12 ∨ (22 ∨ -16))) ∧ (40 ∨ (-10 ∨ (31 ∨ (-2 ∨ (13 ∨ 6)))))) ∧ (-7 ∨ (24 ∨ (32 ∨ -2)))) ∧ (-16 ∨ -12)) ∧ (19 ∨ (33 ∨ (23 ∨ -12)))) ∧ (-33 ∨ (-19 ∨ (-18 ∨ (30 ∨ 7))))) ∧ (1 ∨ (20 ∨ (-7 ∨ (-17 ∨ -12))))) ∧ (2 ∨ (39 ∨ (19 ∨ (16 ∨ (-7 ∨ 8)))))) ∧ (-14 ∨ (34 ∨ -35))) ∧ (40 ∨ (-10 ∨ (15 ∨ (-31 ∨ (-32 ∨ (27 ∨ -39))))))) ∧ (13 ∨ (9 ∨ (-1 ∨ (-24 ∨ (-20 ∨ 19)))))) ∧ (40 ∨ (16 ∨ 10))) ∧ (-2 ∨ (17 ∨ (-32 ∨ -23)))) ∧ (19 ∨ (6 ∨ 25))) ∧ (28 ∨ (-31 ∨ (38 ∨ (-14 ∨ (3 ∨ (35 ∨ 8))))))) ∧ (23 ∨ (13 ∨ (25 ∨ (-31 ∨ (-9 ∨ (36 ∨ (-19 ∨ -34)))))))) ∧ (17 ∨ (-15 ∨ -16))) ∧ (10 ∨ (31 ∨ (23 ∨ (-33 ∨ (36 ∨ (37 ∨ 17))))))) ∧ (5 ∨ (7 ∨ (-20 ∨ (14 ∨ -17))))) ∧ (2 ∨ (-11 ∨ (-19 ∨ (-8 ∨ (36 ∨ 26)))))) ∧ (-4 ∨ (30 ∨ (16 ∨ -14)))) ∧ (-2 ∨ 32)) ∧ (17 ∨ (27 ∨ -23))) ∧ (-14 ∨ (-5 ∨ 4))) ∧ (13 ∨ -2)) ∧ (30 ∨ (3 ∨ 8))) ∧ (24 ∨ (38 ∨ (22 ∨ (10 ∨ (-1 ∨ (23 ∨ (33 ∨ (-27 ∨ (-17 ∨ (39 ∨ (-18 ∨ (32 ∨ -12))))))))))))) ∧ (11 ∨ (-17 ∨ 34))) ∧ (4 ∨ (38 ∨ -3))) ∧ (25 ∨ (-33 ∨ -12))) ∧ (34 ∨ -10)) ∧ (36 ∨ (-5 ∨ (14 ∨ (-24 ∨ -38))))) ∧ (-35 ∨ -34)) ∧ (7 ∨ (32 ∨ (-23 ∨ -17)))) ∧ (21 ∨ -30)) ∧ (-36 ∨ (-13 ∨ (-18 ∨ (14 ∨ (-7 ∨ (24 ∨ (27 ∨ (5 ∨ (-6 ∨ -37)))))))))) ∧ (-14 ∨ -4)) ∧ (5 ∨ (-1 ∨ 31))) ∧ (35 ∨ (-6 ∨ (-32 ∨ (13 ∨ (10 ∨ 27)))))) ∧ (-16 ∨ (7 ∨ 13))) ∧ (-8 ∨ (-37 ∨ 5))) ∧ (-16 ∨ (-38 ∨ (-22 ∨ (35 ∨ 2))))) ∧ (-26 ∨ (39 ∨ (18 ∨ 21)))) ∧ (36 ∨ -6)) ∧ (15 ∨ (-28 ∨ 10))) ∧ (-38 ∨ (-6 ∨ -7))) ∧ (6 ∨ (-23 ∨ -24))) ∧ (22 ∨ (-6 ∨ 11))) ∧ (-6 ∨ (32 ∨ (-5 ∨ (36 ∨ (-29 ∨ (2 ∨ -28))))))) ∧ (-36 ∨ (23 ∨ 9))) ∧ (-8 ∨ (34 ∨ 32))) ∧ (-15 ∨ (-20 ∨ (33 ∨ -32)))) ∧ (-34 ∨ (4 ∨ (-15 ∨ (-35 ∨ (10 ∨ (11 ∨ (-33 ∨ (31 ∨ (6 ∨ (17 ∨ (3 ∨ (-29 ∨ (-13 ∨ -37)))))))))))))) ∧ (-31 ∨ 10)) ∧ (37 ∨ (-7 ∨ 40))) ∧ (-37 ∨ (21 ∨ -20))) ∧ (40 ∨ (13 ∨ (-1 ∨ 2)))) ∧ (-36 ∨ (1 ∨ 31))) ∧ (-10 ∨ (-26 ∨ (-40 ∨ 8)))) ∧ (-8 ∨ (-31 ∨ (11 ∨ (2 ∨ (37 ∨ -25)))))) ∧ (-9 ∨ (40 ∨ 39))) ∧ (30 ∨ 37)) ∧ (22 ∨ (-36 ∨ (-37 ∨ (-1 ∨ 29))))) ∧ (15 ∨ (7 ∨ (37 ∨ 32)))) ∧ (23 ∨ 9)) ∧ (-19 ∨ (33 ∨ -12))) ∧ (15 ∨ (-11 ∨ (-37 ∨ (-18 ∨ (33 ∨ -12)))))) ∧ (-1 ∨ (-31 ∨ (14 ∨ -19)))) ∧ (22 ∨ (-33 ∨ 24))) ∧ (14 ∨ (-38 ∨ (-22 ∨ (39 ∨ (21 ∨ (-33 ∨ (1 ∨ (25 ∨ 32))))))))) ∧ (35 ∨ (-38 ∨ 9))) ∧ (37 ∨ (24 ∨ -11))) ∧ (3 ∨ (-32 ∨ (-12 ∨ -35)))) ∧ (-27 ∨ (-5 ∨ (-24 ∨ -39)))) ∧ (13 ∨ (-5 ∨ (24 ∨ (3 ∨ -29))))) ∧ (-40 ∨ (-10 ∨ (11 ∨ (5 ∨ (31 ∨ -24)))))) ∧ (-15 ∨ (31 ∨ -33))) ∧ (5 ∨ (-28 ∨ -15))) ∧ (11 ∨ (-35 ∨ 40))) ∧ (12 ∨ (37 ∨ 27))) ∧ (-12 ∨ (-13 ∨ (17 ∨ (-16 ∨ -8))))) ∧ (33 ∨ (15 ∨ (-19 ∨ (18 ∨ 11))))) ∧ (-1 ∨ (29 ∨ (15 ∨ 37)))) ∧ (-10 ∨ (-22 ∨ (-40 ∨ -29)))) ∧ (-23 ∨ (-27 ∨ 36))) ∧ (-39 ∨ (-33 ∨ 22))) ∧ (-27 ∨ (14 ∨ (20 ∨ -2)))) ∧ (-10 ∨ (40 ∨ -25))) ∧ (7 ∨ (12 ∨ (22 ∨ (-34 ∨ (9 ∨ 24)))))) ∧ (18 ∨ (-14 ∨ (38 ∨ -22)))) ∧ (6 ∨ 1)) ∧ (18 ∨ (27 ∨ (-29 ∨ (-14 ∨ (-35 ∨ -1)))))) ∧ (-6 ∨ (1 ∨ (-37 ∨ (-19 ∨ (28 ∨ (29 ∨ 7))))))) ∧ (35 ∨ (13 ∨ -27))) ∧ (25 ∨ (-5 ∨ -9))) ∧ (-23 ∨ (31 ∨ (3 ∨ 36)))) ∧ (32 ∨ (40 ∨ (-24 ∨ 36)))) ∧ (6 ∨ (-19 ∨ (38 ∨ (37 ∨ 5))))) ∧ (-22 ∨ -26)) ∧ (-6 ∨ (26 ∨ 14))) ∧ (29 ∨ (26 ∨ (-24 ∨ 17)))) ∧ (2 ∨ (33 ∨ (31 ∨ -30)))) ∧ (4 ∨ (-34 ∨ (-7 ∨ (-25 ∨ (36 ∨ (-29 ∨ (27 ∨ (37 ∨ (-18 ∨ (28 ∨ (-6 ∨ (-35 ∨ (-33 ∨ (-38 ∨ (-2 ∨ (12 ∨ (20 ∨ 26)))))))))))))))))) ∧ (3 ∨ (-18 ∨ (6 ∨ (-32 ∨ (-38 ∨ (36 ∨ -33))))))) ∧ (14 ∨ (-13 ∨ (-5 ∨ -38)))) ∧ (-29 ∨ (-10 ∨ -6))) ∧ (40 ∨ (-23 ∨ (8 ∨ 25)))) ∧ (13 ∨ (-27 ∨ -32))) ∧ (38 ∨ (32 ∨ (-1 ∨ (26 ∨ (-8 ∨ -23)))))) ∧ (2 ∨ 24)) ∧ (-5 ∨ (-40 ∨ (-17 ∨ -15)))) ∧ (-39 ∨ (10 ∨ 20))) ∧ (10 ∨ -40)) ∧ (-20 ∨ (-5 ∨ (11 ∨ (-4 ∨ 16))))) ∧ (5 ∨ (-26 ∨ -21))) ∧ (2 ∨ (-16 ∨ 27))) ∧ (1 ∨ (-35 ∨ (9 ∨ (38 ∨ (16 ∨ -11)))))) ∧ (-22 ∨ (30 ∨ (-18 ∨ -28)))) ∧ (17 ∨ (-35 ∨ (2 ∨ -21)))) ∧ (-20 ∨ 39)) ∧ (24 ∨ (-39 ∨ (-40 ∨ (-7 ∨ (-3 ∨ -11)))))) ∧ (15 ∨ (7 ∨ 22))) ∧ (16 ∨ (5 ∨ (28 ∨ (-15 ∨ (3 ∨ -6)))))) ∧ (-24 ∨ (36 ∨ (-30 ∨ (-40 ∨ 13))))) ∧ (-20 ∨ (-13 ∨ 38))) ∧ (22 ∨ (-38 ∨ (-15 ∨ (32 ∨ -4))))) ∧ (-17 ∨ (10 ∨ (-9 ∨ -29)))) ∧ (25 ∨ (36 ∨ (-19 ∨ (-35 ∨ 5))))) ∧ (12 ∨ (-26 ∨ (-21 ∨ (-3 ∨ (-28 ∨ (14 ∨ (-16 ∨ (-40 ∨ (-31 ∨ (20 ∨ -5))))))))))) ∧ (-19 ∨ (26 ∨ -33))) ∧ (-9 ∨ (10 ∨ (-6 ∨ 11)))) ∧ (-27 ∨ (-23 ∨ (-32 ∨ -16)))) ∧ (13 ∨ (-23 ∨ (1 ∨ (-5 ∨ (34 ∨ (-11 ∨ 26))))))) ∧ (4 ∨ (13 ∨ -12))) ∧ (10 ∨ (14 ∨ (-6 ∨ (34 ∨ (-4 ∨ 21)))))) ∧ (-38 ∨ (27 ∨ (-31 ∨ 20)))) ∧ (-14 ∨ (-6 ∨ -31))) ∧ (2 ∨ (-11 ∨ (-21 ∨ 25)))) ∧ (-8 ∨ -33)) ∧ (-37 ∨ (13 ∨ (12 ∨ 5)))) ∧ (30 ∨ (-28 ∨ 10))) ∧ (-35 ∨ (-9 ∨ (-17 ∨ (-12 ∨ (-8 ∨ (31 ∨ 19))))))) ∧ (-11 ∨ (8 ∨ (30 ∨ 38)))) ∧ (-35 ∨ (-38 ∨ -36))) ∧ (-7 ∨ 6)) ∧ (1 ∨ (25 ∨ -2))) ∧ (-18 ∨ (17 ∨ (14 ∨ (-2 ∨ (35 ∨ (1 ∨ (26 ∨ (-24 ∨ -29))))))))) ∧ (22 ∨ (25 ∨ (10 ∨ (-32 ∨ (14 ∨ (-13 ∨ -28))))))) ∧ (23 ∨ (-28 ∨ (-22 ∨ (-29 ∨ 4))))) ∧ (-29 ∨ (4 ∨ -35))) ∧ (-29 ∨ (-18 ∨ 13))) ∧ (15 ∨ (-38 ∨ 16))) ∧ (18 ∨ (-9 ∨ (20 ∨ (19 ∨ (36 ∨ (-3 ∨ (21 ∨ 25)))))))) ∧ (20 ∨ (32 ∨ -8))) ∧ (-19 ∨ (-25 ∨ (-12 ∨ 5)))) ∧ (8 ∨ (26 ∨ (27 ∨ (4 ∨ -34))))) ∧ (18 ∨ (-27 ∨ (-35 ∨ -9)))) ∧ (14 ∨ (3 ∨ -15))) ∧ (18 ∨ 6)) ∧ (9 ∨ (29 ∨ -31))) ∧ (12 ∨ (5 ∨ -28))) ∧ (-12 ∨ (-22 ∨ (38 ∨ (-6 ∨ 20))))) ∧ (-29 ∨ (-39 ∨ 32))) ∧ (-15 ∨ 12)) ∧ (-19 ∨ (39 ∨ (-17 ∨ (-15 ∨ 26))))) ∧ (33 ∨ (-4 ∨ (27 ∨ (12 ∨ (29 ∨ -14)))))) ∧ (15 ∨ (18 ∨ (-9 ∨ -22)))) ∧ (2 ∨ (40 ∨ -1))) ∧ (-22 ∨ (20 ∨ 23))) ∧ (22 ∨ (8 ∨ (23 ∨ 6)))) ∧ (17 ∨ (-4 ∨ (3 ∨ 15)))) ∧ (-12 ∨ (26 ∨ -25))) ∧ (-26 ∨ (-36 ∨ 27))) ∧ (-12 ∨ (19 ∨ (-2 ∨ (-39 ∨ (15 ∨ (-16 ∨ 32))))))) ∧ (-13 ∨ -18)) ∧ (-25 ∨ (11 ∨ 36))) ∧ (-34 ∨ (-1 ∨ (-39 ∨ 7)))) ∧ (-30 ∨ (37 ∨ (26 ∨ -40)))) ∧ (27 ∨ (18 ∨ (39 ∨ (1 ∨ -13))))) ∧ (22 ∨ (-2 ∨ (-17 ∨ (19 ∨ 14))))) ∧ (-24 ∨ (13 ∨ (8 ∨ (3 ∨ (-16 ∨ -28)))))) ∧ (4 ∨ (23 ∨ -36))) ∧ (-11 ∨ (38 ∨ (-34 ∨ (-28 ∨ (-3 ∨ (32 ∨ (29 ∨ 25)))))))) ∧ (-22 ∨ (39 ∨ (19 ∨ (12 ∨ -9))))) ∧ (18 ∨ (36 ∨ (14 ∨ 17)))) ∧ (13 ∨ (8 ∨ -11))) ∧ (-16 ∨ (-22 ∨ (-18 ∨ (33 ∨ (17 ∨ -15)))))) ∧ (23 ∨ (-11 ∨ (12 ∨ 1)))) ∧ (-1 ∨ (-33 ∨ -17))) ∧ (-38 ∨ (27 ∨ (20 ∨ (-34 ∨ -22))))) ∧ (-17 ∨ (-35 ∨ -13))) ∧ (-1 ∨ (17 ∨ 34))) ∧ (-21 ∨ (-36 ∨ (-8 ∨ (28 ∨ (-23 ∨ (32 ∨ (34 ∨ (12 ∨ (10 ∨ (35 ∨ (-25 ∨ (-19 ∨ (18 ∨ (1 ∨ 7))))))))))))))) ∧ (-10 ∨ (29 ∨ (27 ∨ 8)))) ∧ (-11 ∨ 13)) ∧ (10 ∨ (-3 ∨ (-7 ∨ 31)))) ∧ (-25 ∨ (-14 ∨ -20))) ∧ (2 ∨ (-31 ∨ (40 ∨ (36 ∨ 16))))) ∧ (28 ∨ (25 ∨ 10))) ∧ (7 ∨ -22)) ∧ (2 ∨ (-31 ∨ 40))) ∧ (-28 ∨ (-10 ∨ (16 ∨ (-7 ∨ (23 ∨ (-26 ∨ (-13 ∨ (-30 ∨ (19 ∨ (37 ∨ -12))))))))))) ∧ (9 ∨ (29 ∨ -20))) ∧ (-1 ∨ (-13 ∨ (12 ∨ 11)))) ∧ (24 ∨ (-14 ∨ (15 ∨ (-3 ∨ 30))))) ∧ (2 ∨ 8))\n",
      "23 = True in formula: ((((((((((((((((((((((((((((((((((((((((((((((((((((((((((((((((((((((((((((((((((((((((((((((((((((((((((((((((((((((((((((((((((((((((((((((((((((((((((((((((((((((((((((((((((((((((((((((((((((((((((((((((((((-1 ∨ (-2 ∨ (-3 ∨ (4 ∨ (5 ∨ (6 ∨ (-7 ∨ (8 ∨ (-9 ∨ (-10 ∨ 11)))))))))) ∧ (-12 ∨ 13)) ∧ (-14 ∨ (2 ∨ -7))) ∧ (-15 ∨ (16 ∨ (-17 ∨ (-5 ∨ 18))))) ∧ (-4 ∨ (-19 ∨ 17))) ∧ (-9 ∨ (20 ∨ 21))) ∧ (-16 ∨ -22)) ∧ (-23 ∨ (-17 ∨ -24))) ∧ (4 ∨ (-25 ∨ -26))) ∧ (27 ∨ (28 ∨ (-5 ∨ (-11 ∨ -21))))) ∧ (-15 ∨ 3)) ∧ (-29 ∨ (4 ∨ (30 ∨ (17 ∨ -13))))) ∧ (-31 ∨ (32 ∨ -5))) ∧ (19 ∨ (-14 ∨ 29))) ∧ (3 ∨ (-1 ∨ -33))) ∧ (-29 ∨ (-21 ∨ 34))) ∧ (-27 ∨ (7 ∨ 1))) ∧ (-23 ∨ 26)) ∧ (8 ∨ (-7 ∨ (15 ∨ (-3 ∨ (-35 ∨ 1)))))) ∧ (-4 ∨ (12 ∨ 20))) ∧ (-24 ∨ (36 ∨ (-29 ∨ (32 ∨ (-34 ∨ -20)))))) ∧ (-37 ∨ (-30 ∨ (-21 ∨ (-32 ∨ (-24 ∨ -35)))))) ∧ (1 ∨ (-35 ∨ -3))) ∧ (8 ∨ (-1 ∨ (17 ∨ (-30 ∨ (-22 ∨ (-32 ∨ (27 ∨ 38)))))))) ∧ (15 ∨ (-14 ∨ -1))) ∧ (7 ∨ (-27 ∨ (-10 ∨ (-1 ∨ (2 ∨ -15)))))) ∧ (39 ∨ (34 ∨ (18 ∨ (24 ∨ (15 ∨ (-1 ∨ -17))))))) ∧ (38 ∨ (13 ∨ (31 ∨ (-14 ∨ (-21 ∨ -5)))))) ∧ (-22 ∨ (-25 ∨ (1 ∨ (-30 ∨ 38))))) ∧ (26 ∨ 12)) ∧ (23 ∨ (-34 ∨ (-26 ∨ 28)))) ∧ (3 ∨ (5 ∨ (-32 ∨ (14 ∨ (-2 ∨ (30 ∨ (-11 ∨ -21)))))))) ∧ (40 ∨ (7 ∨ (32 ∨ 11)))) ∧ (28 ∨ (1 ∨ (12 ∨ (15 ∨ (-19 ∨ (21 ∨ 7))))))) ∧ (-4 ∨ (33 ∨ (-19 ∨ 11)))) ∧ (32 ∨ (34 ∨ -37))) ∧ (36 ∨ (2 ∨ 6))) ∧ (25 ∨ (-17 ∨ (26 ∨ (-34 ∨ -6))))) ∧ (20 ∨ -26)) ∧ (-12 ∨ (-30 ∨ (-2 ∨ (-34 ∨ -24))))) ∧ (-7 ∨ (-28 ∨ -29))) ∧ (-30 ∨ (1 ∨ (38 ∨ (5 ∨ (-16 ∨ -37)))))) ∧ (-13 ∨ (-26 ∨ (-29 ∨ (4 ∨ 40))))) ∧ (-6 ∨ (-34 ∨ 35))) ∧ (-34 ∨ (-16 ∨ 38))) ∧ (-28 ∨ (-36 ∨ (-10 ∨ 16)))) ∧ (32 ∨ -25)) ∧ (34 ∨ (23 ∨ -38))) ∧ (-35 ∨ (-6 ∨ (11 ∨ (13 ∨ (-10 ∨ (4 ∨ -21))))))) ∧ (19 ∨ (-2 ∨ -16))) ∧ (22 ∨ (-18 ∨ (-12 ∨ -13)))) ∧ (-34 ∨ (13 ∨ (9 ∨ (-40 ∨ (-36 ∨ -2)))))) ∧ (11 ∨ (30 ∨ (14 ∨ 27)))) ∧ (28 ∨ (-19 ∨ 25))) ∧ (-34 ∨ (18 ∨ (17 ∨ (-33 ∨ (-27 ∨ (-11 ∨ (-28 ∨ (6 ∨ (16 ∨ (12 ∨ -2))))))))))) ∧ (-26 ∨ -2)) ∧ (-20 ∨ (-10 ∨ 25))) ∧ (8 ∨ (-27 ∨ (-35 ∨ 24)))) ∧ (20 ∨ (36 ∨ -24))) ∧ (-8 ∨ (-21 ∨ (20 ∨ (40 ∨ (3 ∨ (-34 ∨ (26 ∨ 7)))))))) ∧ (-36 ∨ (-22 ∨ (-26 ∨ (-8 ∨ 16))))) ∧ (28 ∨ (12 ∨ -37))) ∧ (17 ∨ (-24 ∨ (22 ∨ (-3 ∨ (15 ∨ -25)))))) ∧ (24 ∨ (-15 ∨ (-25 ∨ (-20 ∨ -29))))) ∧ (18 ∨ (-31 ∨ (-28 ∨ (22 ∨ -24))))) ∧ (-17 ∨ (-24 ∨ -2))) ∧ (-36 ∨ (22 ∨ 12))) ∧ (-28 ∨ -34)) ∧ (1 ∨ -16)) ∧ (4 ∨ (-17 ∨ -12))) ∧ (-31 ∨ (8 ∨ 36))) ∧ (33 ∨ (-39 ∨ 24))) ∧ (38 ∨ -3)) ∧ (-6 ∨ (25 ∨ -26))) ∧ (-12 ∨ (15 ∨ (38 ∨ (-28 ∨ (11 ∨ (22 ∨ (30 ∨ (5 ∨ (39 ∨ (8 ∨ (13 ∨ (16 ∨ (-21 ∨ (32 ∨ (9 ∨ (-19 ∨ 40))))))))))))))))) ∧ (14 ∨ (-17 ∨ (8 ∨ 1)))) ∧ (8 ∨ (-5 ∨ (35 ∨ (22 ∨ (12 ∨ (20 ∨ (-39 ∨ (7 ∨ (4 ∨ (33 ∨ (-18 ∨ (32 ∨ 21))))))))))))) ∧ (30 ∨ (-25 ∨ (23 ∨ (-38 ∨ -22))))) ∧ (8 ∨ (11 ∨ -2))) ∧ (-27 ∨ (-14 ∨ (38 ∨ (31 ∨ (-40 ∨ 33)))))) ∧ (25 ∨ (18 ∨ (10 ∨ (35 ∨ 29))))) ∧ (-23 ∨ (10 ∨ (8 ∨ (35 ∨ (-6 ∨ 5)))))) ∧ (34 ∨ (-26 ∨ (37 ∨ -29)))) ∧ (31 ∨ (-7 ∨ -1))) ∧ (-10 ∨ (35 ∨ (38 ∨ -37)))) ∧ (-14 ∨ (23 ∨ (-39 ∨ (-17 ∨ (15 ∨ (-16 ∨ (-7 ∨ 22)))))))) ∧ (34 ∨ (17 ∨ 19))) ∧ (24 ∨ (-16 ∨ (11 ∨ (23 ∨ 40))))) ∧ (-10 ∨ (-35 ∨ (15 ∨ 38)))) ∧ (25 ∨ -27)) ∧ (-26 ∨ (40 ∨ -25))) ∧ (-37 ∨ (-39 ∨ 24))) ∧ (5 ∨ (39 ∨ (-3 ∨ -35)))) ∧ (18 ∨ (29 ∨ -9))) ∧ (-21 ∨ (-33 ∨ -7))) ∧ (-5 ∨ (26 ∨ 16))) ∧ (12 ∨ (-8 ∨ (24 ∨ (10 ∨ -39))))) ∧ (18 ∨ (3 ∨ (4 ∨ (15 ∨ (-10 ∨ 29)))))) ∧ (31 ∨ (23 ∨ (-39 ∨ 32)))) ∧ (19 ∨ 28)) ∧ (-12 ∨ (3 ∨ (37 ∨ 35)))) ∧ (-2 ∨ (-12 ∨ (-6 ∨ (-15 ∨ 4))))) ∧ (28 ∨ (-5 ∨ (36 ∨ 3)))) ∧ (-3 ∨ (26 ∨ (40 ∨ 24)))) ∧ (-6 ∨ (-23 ∨ (-29 ∨ (-30 ∨ -18))))) ∧ (-35 ∨ -25)) ∧ (-40 ∨ 26)) ∧ (-7 ∨ (-15 ∨ 22))) ∧ (16 ∨ (-21 ∨ (20 ∨ (34 ∨ (-37 ∨ (10 ∨ (-8 ∨ (17 ∨ (-9 ∨ (22 ∨ -38))))))))))) ∧ (39 ∨ (-10 ∨ (-26 ∨ -32)))) ∧ (24 ∨ (-40 ∨ -3))) ∧ (-23 ∨ (-39 ∨ (-31 ∨ -15)))) ∧ (9 ∨ -5)) ∧ (-8 ∨ (40 ∨ (-14 ∨ (-34 ∨ (-17 ∨ (-16 ∨ (13 ∨ (-29 ∨ (35 ∨ -1)))))))))) ∧ (-19 ∨ (-33 ∨ (-27 ∨ (21 ∨ (10 ∨ (-9 ∨ 31))))))) ∧ (30 ∨ (22 ∨ -7))) ∧ (39 ∨ (4 ∨ -1))) ∧ (32 ∨ (-7 ∨ -24))) ∧ (39 ∨ (7 ∨ 32))) ∧ (-4 ∨ (-32 ∨ (18 ∨ (-29 ∨ -28))))) ∧ (-11 ∨ (8 ∨ (-31 ∨ (-6 ∨ -15))))) ∧ (-35 ∨ (-10 ∨ 16))) ∧ (-37 ∨ (-3 ∨ (-9 ∨ -33)))) ∧ (-29 ∨ (34 ∨ -35))) ∧ (23 ∨ (29 ∨ (-27 ∨ 19)))) ∧ (-31 ∨ (37 ∨ (-2 ∨ (1 ∨ 4))))) ∧ (27 ∨ (38 ∨ (-18 ∨ (29 ∨ -26))))) ∧ (-2 ∨ (24 ∨ (19 ∨ 1)))) ∧ (35 ∨ (13 ∨ 31))) ∧ (28 ∨ 21)) ∧ (11 ∨ (13 ∨ (-10 ∨ 25)))) ∧ (-37 ∨ (-19 ∨ (38 ∨ (-16 ∨ (-31 ∨ 5)))))) ∧ (23 ∨ (9 ∨ (-35 ∨ (-19 ∨ -21))))) ∧ (-13 ∨ (16 ∨ -9))) ∧ (-40 ∨ (-32 ∨ (-22 ∨ (13 ∨ -31))))) ∧ (-22 ∨ (-10 ∨ 34))) ∧ (35 ∨ (-29 ∨ (19 ∨ 15)))) ∧ (3 ∨ (14 ∨ -26))) ∧ (-14 ∨ (-3 ∨ -30))) ∧ (-21 ∨ (10 ∨ (-7 ∨ (-13 ∨ 4))))) ∧ (20 ∨ (17 ∨ 7))) ∧ (5 ∨ (38 ∨ (17 ∨ (-16 ∨ 2))))) ∧ (39 ∨ (-33 ∨ (-14 ∨ (-8 ∨ (9 ∨ (35 ∨ 24))))))) ∧ (-22 ∨ (-8 ∨ -11))) ∧ (-38 ∨ -26)) ∧ (-19 ∨ (37 ∨ 18))) ∧ (25 ∨ (6 ∨ -34))) ∧ (-3 ∨ (30 ∨ 20))) ∧ (12 ∨ (7 ∨ (17 ∨ (20 ∨ 33))))) ∧ (-14 ∨ (-40 ∨ (-10 ∨ (-12 ∨ (-19 ∨ -23)))))) ∧ (20 ∨ (-4 ∨ 1))) ∧ (-5 ∨ (-26 ∨ -8))) ∧ (-8 ∨ (26 ∨ (16 ∨ (-10 ∨ (-12 ∨ (-18 ∨ (-39 ∨ (29 ∨ (25 ∨ (11 ∨ -30))))))))))) ∧ (-19 ∨ (-33 ∨ (-21 ∨ (18 ∨ 16))))) ∧ (26 ∨ (-21 ∨ -6))) ∧ (18 ∨ (-32 ∨ -38))) ∧ (10 ∨ (-16 ∨ (-27 ∨ 40)))) ∧ (14 ∨ (30 ∨ (15 ∨ (-20 ∨ (-40 ∨ 24)))))) ∧ (-39 ∨ (-12 ∨ (13 ∨ (-21 ∨ -37))))) ∧ (-18 ∨ 3)) ∧ (32 ∨ -33)) ∧ (-26 ∨ (-13 ∨ (10 ∨ (-19 ∨ -2))))) ∧ (29 ∨ (-39 ∨ -37))) ∧ (-28 ∨ -21)) ∧ (-5 ∨ (-35 ∨ 33))) ∧ (6 ∨ (24 ∨ -4))) ∧ (-17 ∨ (-11 ∨ (-5 ∨ (-28 ∨ -7))))) ∧ (-22 ∨ (-2 ∨ (24 ∨ (-16 ∨ -40))))) ∧ (31 ∨ (-11 ∨ -7))) ∧ (-6 ∨ (-8 ∨ (22 ∨ (32 ∨ (25 ∨ (-10 ∨ -24))))))) ∧ (25 ∨ (38 ∨ (-10 ∨ (-8 ∨ 1))))) ∧ (15 ∨ 28)) ∧ (-22 ∨ -40)) ∧ (36 ∨ (20 ∨ (11 ∨ -1)))) ∧ (27 ∨ -3)) ∧ (12 ∨ (4 ∨ 3))) ∧ (6 ∨ (-1 ∨ (24 ∨ (-3 ∨ (-5 ∨ (38 ∨ (-26 ∨ (-36 ∨ -20))))))))) ∧ (-15 ∨ (16 ∨ (-23 ∨ (4 ∨ -29))))) ∧ (-9 ∨ (-20 ∨ -23))) ∧ (-20 ∨ (-6 ∨ 24))) ∧ (-32 ∨ (33 ∨ 22))) ∧ (-29 ∨ (-5 ∨ (32 ∨ -2)))) ∧ (-11 ∨ (-19 ∨ 39))) ∧ (-33 ∨ (-29 ∨ 12))) ∧ (32 ∨ (25 ∨ (5 ∨ (-12 ∨ (37 ∨ (-29 ∨ (27 ∨ (-8 ∨ (20 ∨ (19 ∨ (-9 ∨ (34 ∨ (-16 ∨ 28)))))))))))))) ∧ (-35 ∨ (11 ∨ (-29 ∨ -8)))) ∧ (-29 ∨ (21 ∨ (-33 ∨ (-31 ∨ (-7 ∨ (9 ∨ 27))))))) ∧ (39 ∨ (-6 ∨ (4 ∨ 25)))) ∧ (-21 ∨ (25 ∨ (-3 ∨ 38)))) ∧ (21 ∨ 24)) ∧ (-36 ∨ (-6 ∨ -5))) ∧ (38 ∨ (-12 ∨ (7 ∨ -39)))) ∧ (20 ∨ (24 ∨ (10 ∨ 9)))) ∧ (22 ∨ -21)) ∧ (19 ∨ 11)) ∧ (-13 ∨ (-17 ∨ (-7 ∨ (16 ∨ 40))))) ∧ (-38 ∨ (-7 ∨ (21 ∨ (22 ∨ (17 ∨ (-37 ∨ 36))))))) ∧ (-9 ∨ 30)) ∧ (5 ∨ (-6 ∨ -32))) ∧ (-10 ∨ (-27 ∨ (31 ∨ (-2 ∨ (32 ∨ -13)))))) ∧ (40 ∨ (6 ∨ (19 ∨ (-37 ∨ -39))))) ∧ (-27 ∨ 4)) ∧ (40 ∨ (-26 ∨ (3 ∨ -37)))) ∧ (15 ∨ (-27 ∨ 3))) ∧ (20 ∨ (-33 ∨ 23))) ∧ (-15 ∨ (-33 ∨ -29))) ∧ (-4 ∨ 37)) ∧ (-26 ∨ 14)) ∧ (-31 ∨ (18 ∨ (34 ∨ -30)))) ∧ (35 ∨ -7)) ∧ (-6 ∨ (-1 ∨ 22))) ∧ (-32 ∨ -10))\n"
     ]
    }
   ],
   "source": [
    "for formula, (var, assignment) in decisions[:3]:\n",
    "    print(\"{} = {} in formula: {}\".format(var, assignment, expression.pprint(formula)))"
   ]
  },
  {
   "cell_type": "code",
   "execution_count": 4,
   "metadata": {},
   "outputs": [],
   "source": [
    "# Split into training/test sets.\n",
    "num_training = int(len(decisions) * TRAIN_SPLIT)\n",
    "decisions_training, decisions_test = decisions[:num_training], decisions[num_training:]"
   ]
  },
  {
   "cell_type": "markdown",
   "metadata": {},
   "source": [
    "Let's look at how the approximate optimal heuristic is distributed. We're expecting a roughly uniform distribution over variable names, as variables are initially named randomly and our renaming is a bijection, preserving its randomness."
   ]
  },
  {
   "cell_type": "code",
   "execution_count": 5,
   "metadata": {},
   "outputs": [],
   "source": [
    "import numpy as np\n",
    "\n",
    "picked_vars, picked_assignments = zip(*((int(var), int(assignment)) for _, (var, assignment) in decisions))\n",
    "picked_vars, picked_assignments = np.array(picked_vars), np.array(picked_assignments)"
   ]
  },
  {
   "cell_type": "code",
   "execution_count": 6,
   "metadata": {},
   "outputs": [
    {
     "data": {
      "image/png": "[encoded data removed]",
      "text/plain": [
       "<Figure size 432x288 with 1 Axes>"
      ]
     },
     "metadata": {
      "needs_background": "light"
     },
     "output_type": "display_data"
    }
   ],
   "source": [
    "%matplotlib inline\n",
    "import matplotlib.pyplot as plt\n",
    "\n",
    "plt.hist(picked_vars, vocab_size)\n",
    "plt.title('Best variables')\n",
    "plt.show()"
   ]
  },
  {
   "cell_type": "code",
   "execution_count": 7,
   "metadata": {},
   "outputs": [
    {
     "data": {
      "image/png": "[encoded data removed]",
      "text/plain": [
       "<Figure size 432x288 with 1 Axes>"
      ]
     },
     "metadata": {
      "needs_background": "light"
     },
     "output_type": "display_data"
    }
   ],
   "source": [
    "plt.hist(picked_assignments, 2)\n",
    "plt.title('Assignments')\n",
    "plt.show()"
   ]
  },
  {
   "cell_type": "markdown",
   "metadata": {},
   "source": [
    "# Prediction"
   ]
  },
  {
   "cell_type": "markdown",
   "metadata": {},
   "source": [
    "For the LSTM model, we need to convert our dataset of formulas in AST form into a sequence of tokens. We're going to do some preprocessing:\n",
    "\n",
    "- We're going to convert variables into one-hot vectors; and connectives into special one-hot tokens."
   ]
  },
  {
   "cell_type": "code",
   "execution_count": 8,
   "metadata": {},
   "outputs": [],
   "source": [
    "token_length = vocab_size + 2 # for connectives AND and OR\n",
    "\n",
    "def one_hot(length: int, index: int):\n",
    "    element = -1 if index < 0 else 1\n",
    "    index = abs(index)\n",
    "    \n",
    "    v = [0] * length\n",
    "    v[index] = element\n",
    "    return v\n",
    "\n",
    "SPECIAL_TOKENS = {\n",
    "    expression.Type.AND: one_hot(token_length, vocab_size),\n",
    "    expression.Type.OR: one_hot(token_length, vocab_size + 1)\n",
    "}\n",
    "\n",
    "def tokenize_formula(formula):\n",
    "    return torch.FloatTensor(_tokenize_formula(formula))\n",
    "\n",
    "def _tokenize_formula(formula):\n",
    "    if not formula:\n",
    "        return []\n",
    "    \n",
    "    assert isinstance(formula, expression.Expression)\n",
    "    \n",
    "    typ, l_val, r_val = formula\n",
    "\n",
    "    # We're at a variable, embed it.\n",
    "    if typ == expression.Type.VAR:\n",
    "        # Variables are 1-indexed\n",
    "        zero_idx = int(l_val) - 1\n",
    "        return [one_hot(token_length, zero_idx)]\n",
    "    # We're at a NOT'd variable, reach one level below and embed it.\n",
    "    if typ == expression.Type.NOT:\n",
    "        assert l_val.typ == expression.Type.VAR, \"Expecting negations to be propagated to literal level\"\n",
    "        zero_idx = int(l_val.l_val) - 1\n",
    "        return [one_hot(token_length, -1 * zero_idx)]\n",
    "\n",
    "    # Else join tokenizations of branches into one sequence\n",
    "    return _tokenize_formula(l_val) + [SPECIAL_TOKENS[typ]] + _tokenize_formula(r_val)"
   ]
  },
  {
   "cell_type": "markdown",
   "metadata": {},
   "source": [
    "- Now that we have formula sequences, we must have labels for these formulas. Our formula labels are in $\\mathbb{Z} \\times \\{0, 1\\}$, with the first element bounded by `vocab_size`. We're simply going to index into the Cartesian product of these sets."
   ]
  },
  {
   "cell_type": "code",
   "execution_count": 9,
   "metadata": {},
   "outputs": [],
   "source": [
    "import torch\n",
    "import torch.nn as nn\n",
    "import torch.nn.functional as F\n",
    "import torch.optim as optim\n",
    "import torch.utils.data as data"
   ]
  },
  {
   "cell_type": "code",
   "execution_count": 10,
   "metadata": {},
   "outputs": [],
   "source": [
    "from typing import Tuple, List\n",
    "\n",
    "label_length = vocab_size * 2\n",
    "\n",
    "def tokenize_policy(policy: Tuple[int, bool]) -> int:\n",
    "    \"\"\"Torch's log-softmax expects ordinal integers as classes, so we do that.\"\"\"\n",
    "    idx, branch = policy\n",
    "    zero_idx = idx - 1\n",
    "    return zero_idx * 2 + int(branch)"
   ]
  },
  {
   "cell_type": "code",
   "execution_count": 11,
   "metadata": {},
   "outputs": [],
   "source": [
    "def tokenize_dataset(decisions):\n",
    "    X, y = zip(*((tokenize_formula(formula), tokenize_policy(policy)) for formula, policy in decisions))\n",
    "    return X, y\n",
    "\n",
    "# List of 2D tensors, List of 1D tensors\n",
    "X_train, y_train = tokenize_dataset(decisions_training)\n",
    "X_test, y_test = tokenize_dataset(decisions_test)"
   ]
  },
  {
   "cell_type": "markdown",
   "metadata": {},
   "source": [
    "## LSTM\n",
    "\n",
    "Now let's try a traditional LSTM approach in predicting this data."
   ]
  },
  {
   "cell_type": "code",
   "execution_count": 17,
   "metadata": {
    "scrolled": true
   },
   "outputs": [],
   "source": [
    "class LSTMDataset(data.Dataset):\n",
    "    def __init__(self, sequences, labels):\n",
    "        \"\"\"Expects a list of 2D tensors (sequences) and a list of vectors (labels)\"\"\"\n",
    "        self.sequences = sequences\n",
    "        self.labels = labels\n",
    "        \n",
    "    def __len__(self):\n",
    "        return len(self.sequences)\n",
    "    \n",
    "    def __getitem__(self, index):\n",
    "        return self.sequences[index], self.labels[index]\n",
    "    \n",
    "def lstm_collator(batch):\n",
    "    \"\"\"Expects `batch` to be a list of (X, y) pairs.\"\"\"\n",
    "    X, y = zip(*batch)\n",
    "    seq_lens = torch.tensor([len(seq) for seq in X])\n",
    "    padded_sequences = nn.utils.rnn.pad_sequence(X, batch_first=True)\n",
    "    packed_batch = nn.utils.rnn.pack_padded_sequence(\n",
    "        padded_sequences,\n",
    "        seq_lens,\n",
    "        batch_first=True,\n",
    "        enforce_sorted=False\n",
    "    )\n",
    "    \n",
    "    return packed_batch, torch.LongTensor(y)\n",
    "\n",
    "dataset_train = LSTMDataset(X_train, y_train)\n",
    "dataset_test = LSTMDataset(X_test, y_test)\n",
    "\n",
    "loader_opts = {\n",
    "    'collate_fn': lstm_collator,\n",
    "    'batch_size': 32,\n",
    "    'shuffle': True,\n",
    "    'num_workers': 4\n",
    "}\n",
    "\n",
    "loader_train = data.DataLoader(dataset=dataset_train, **loader_opts)\n",
    "loader_test = data.DataLoader(dataset=dataset_test, **loader_opts)"
   ]
  },
  {
   "cell_type": "code",
   "execution_count": 13,
   "metadata": {},
   "outputs": [],
   "source": [
    "class LSTM(nn.Module):\n",
    "    def __init__(self, input_dim: int, hidden_dim: int, linear_dims: List[int], num_lstm_layers: int):\n",
    "        super(LSTM, self).__init__()\n",
    "        self.input_dim = input_dim\n",
    "        self.hidden_dim = hidden_dim\n",
    "        self.lstm = nn.LSTM(self.input_dim, self.hidden_dim, num_lstm_layers, batch_first=True)\n",
    "        \n",
    "        input_dims = [self.hidden_dim] + linear_dims[:-1]\n",
    "        self.linears = [nn.Linear(input, output) for input, output in zip(input_dims, linear_dims)]\n",
    "        \n",
    "    def forward(self, packed_input):\n",
    "        \"\"\"Expects a packed sequence.\"\"\"\n",
    "        _, (hidden, _) = self.lstm(packed_input)\n",
    "        x = hidden[-1]\n",
    "        \n",
    "        for linear in self.linears:\n",
    "            x = linear(x)\n",
    "            \n",
    "        return x"
   ]
  },
  {
   "cell_type": "markdown",
   "metadata": {},
   "source": [
    "Let's train the model."
   ]
  },
  {
   "cell_type": "code",
   "execution_count": 18,
   "metadata": {},
   "outputs": [
    {
     "name": "stdout",
     "output_type": "stream",
     "text": [
      "Epoch 1/300 Step 1/119 Train loss: 0.08785226821899414 Train acc: 0.0\n"
     ]
    },
    {
     "ename": "KeyboardInterrupt",
     "evalue": "",
     "output_type": "error",
     "traceback": [
      "\u001b[0;31m---------------------------------------------------------------------------\u001b[0m",
      "\u001b[0;31mKeyboardInterrupt\u001b[0m                         Traceback (most recent call last)",
      "\u001b[0;32m<ipython-input-18-1b1b3ac4f4ce>\u001b[0m in \u001b[0;36m<module>\u001b[0;34m\u001b[0m\n\u001b[1;32m     19\u001b[0m         \u001b[0mloss\u001b[0m \u001b[0;34m=\u001b[0m \u001b[0mloss_fn\u001b[0m\u001b[0;34m(\u001b[0m\u001b[0my_pred\u001b[0m\u001b[0;34m,\u001b[0m \u001b[0my\u001b[0m\u001b[0;34m)\u001b[0m\u001b[0;34m\u001b[0m\u001b[0;34m\u001b[0m\u001b[0m\n\u001b[1;32m     20\u001b[0m \u001b[0;34m\u001b[0m\u001b[0m\n\u001b[0;32m---> 21\u001b[0;31m         \u001b[0mloss\u001b[0m\u001b[0;34m.\u001b[0m\u001b[0mbackward\u001b[0m\u001b[0;34m(\u001b[0m\u001b[0;34m)\u001b[0m\u001b[0;34m\u001b[0m\u001b[0;34m\u001b[0m\u001b[0m\n\u001b[0m\u001b[1;32m     22\u001b[0m         \u001b[0moptimizer\u001b[0m\u001b[0;34m.\u001b[0m\u001b[0mstep\u001b[0m\u001b[0;34m(\u001b[0m\u001b[0;34m)\u001b[0m\u001b[0;34m\u001b[0m\u001b[0;34m\u001b[0m\u001b[0m\n\u001b[1;32m     23\u001b[0m \u001b[0;34m\u001b[0m\u001b[0m\n",
      "\u001b[0;32m/usr/local/miniconda3/envs/sat-ml/lib/python3.7/site-packages/torch/tensor.py\u001b[0m in \u001b[0;36mbackward\u001b[0;34m(self, gradient, retain_graph, create_graph)\u001b[0m\n\u001b[1;32m    116\u001b[0m                 \u001b[0mproducts\u001b[0m\u001b[0;34m.\u001b[0m \u001b[0mDefaults\u001b[0m \u001b[0mto\u001b[0m\u001b[0;31m \u001b[0m\u001b[0;31m`\u001b[0m\u001b[0;31m`\u001b[0m\u001b[0;32mFalse\u001b[0m\u001b[0;31m`\u001b[0m\u001b[0;31m`\u001b[0m\u001b[0;34m.\u001b[0m\u001b[0;34m\u001b[0m\u001b[0;34m\u001b[0m\u001b[0m\n\u001b[1;32m    117\u001b[0m         \"\"\"\n\u001b[0;32m--> 118\u001b[0;31m         \u001b[0mtorch\u001b[0m\u001b[0;34m.\u001b[0m\u001b[0mautograd\u001b[0m\u001b[0;34m.\u001b[0m\u001b[0mbackward\u001b[0m\u001b[0;34m(\u001b[0m\u001b[0mself\u001b[0m\u001b[0;34m,\u001b[0m \u001b[0mgradient\u001b[0m\u001b[0;34m,\u001b[0m \u001b[0mretain_graph\u001b[0m\u001b[0;34m,\u001b[0m \u001b[0mcreate_graph\u001b[0m\u001b[0;34m)\u001b[0m\u001b[0;34m\u001b[0m\u001b[0;34m\u001b[0m\u001b[0m\n\u001b[0m\u001b[1;32m    119\u001b[0m \u001b[0;34m\u001b[0m\u001b[0m\n\u001b[1;32m    120\u001b[0m     \u001b[0;32mdef\u001b[0m \u001b[0mregister_hook\u001b[0m\u001b[0;34m(\u001b[0m\u001b[0mself\u001b[0m\u001b[0;34m,\u001b[0m \u001b[0mhook\u001b[0m\u001b[0;34m)\u001b[0m\u001b[0;34m:\u001b[0m\u001b[0;34m\u001b[0m\u001b[0;34m\u001b[0m\u001b[0m\n",
      "\u001b[0;32m/usr/local/miniconda3/envs/sat-ml/lib/python3.7/site-packages/torch/autograd/__init__.py\u001b[0m in \u001b[0;36mbackward\u001b[0;34m(tensors, grad_tensors, retain_graph, create_graph, grad_variables)\u001b[0m\n\u001b[1;32m     91\u001b[0m     Variable._execution_engine.run_backward(\n\u001b[1;32m     92\u001b[0m         \u001b[0mtensors\u001b[0m\u001b[0;34m,\u001b[0m \u001b[0mgrad_tensors\u001b[0m\u001b[0;34m,\u001b[0m \u001b[0mretain_graph\u001b[0m\u001b[0;34m,\u001b[0m \u001b[0mcreate_graph\u001b[0m\u001b[0;34m,\u001b[0m\u001b[0;34m\u001b[0m\u001b[0;34m\u001b[0m\u001b[0m\n\u001b[0;32m---> 93\u001b[0;31m         allow_unreachable=True)  # allow_unreachable flag\n\u001b[0m\u001b[1;32m     94\u001b[0m \u001b[0;34m\u001b[0m\u001b[0m\n\u001b[1;32m     95\u001b[0m \u001b[0;34m\u001b[0m\u001b[0m\n",
      "\u001b[0;31mKeyboardInterrupt\u001b[0m: "
     ]
    }
   ],
   "source": [
    "model = LSTM(\n",
    "    input_dim=token_length,\n",
    "    hidden_dim=5,\n",
    "    linear_dims=[8, label_length],\n",
    "    num_lstm_layers=1\n",
    ")\n",
    "\n",
    "loss_fn = torch.nn.CrossEntropyLoss()\n",
    "optimizer = torch.optim.Adam(model.parameters()) # Use the default LR schedule\n",
    "\n",
    "EPOCHS = 300\n",
    "print_every = 50\n",
    "running_loss, running_accuracy = 0, 0\n",
    "\n",
    "for t in range(EPOCHS):\n",
    "    for step, (X, y) in enumerate(loader_train):\n",
    "        model.zero_grad()\n",
    "        y_pred = model(X)\n",
    "        loss = loss_fn(y_pred, y)\n",
    "        \n",
    "        loss.backward()\n",
    "        optimizer.step()\n",
    "        \n",
    "        with torch.no_grad():\n",
    "            class_predictions = y_pred.max(1)[1]            \n",
    "            num_accurate = class_predictions.eq(y).sum()\n",
    "            \n",
    "            running_loss += (loss.item() / print_every)\n",
    "            running_accuracy += (float(num_accurate) / (y.shape[0] * print_every))\n",
    "        \n",
    "            if step % print_every == 0:\n",
    "                print(f\"Epoch {t + 1}/{EPOCHS} \"\n",
    "                      f\"Step {step + 1}/{len(loader_train)} \"\n",
    "                      f\"Train loss: {running_loss} \"\n",
    "                      f\"Train acc: {running_accuracy}\")\n",
    "                running_loss, running_accuracy = 0, 0"
   ]
  },
  {
   "cell_type": "code",
   "execution_count": null,
   "metadata": {},
   "outputs": [],
   "source": []
  },
  {
   "cell_type": "code",
   "execution_count": null,
   "metadata": {},
   "outputs": [],
   "source": []
  }
 ],
 "metadata": {
  "kernelspec": {
   "display_name": "Python 3",
   "language": "python",
   "name": "python3"
  },
  "language_info": {
   "codemirror_mode": {
    "name": "ipython",
    "version": 3
   },
   "file_extension": ".py",
   "mimetype": "text/x-python",
   "name": "python",
   "nbconvert_exporter": "python",
   "pygments_lexer": "ipython3",
   "version": "3.7.4"
  }
 },
 "nbformat": 4,
 "nbformat_minor": 2
}
