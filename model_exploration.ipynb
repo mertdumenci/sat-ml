{
 "cells": [
  {
   "cell_type": "code",
   "execution_count": 28,
   "metadata": {},
   "outputs": [
    {
     "name": "stdout",
     "output_type": "stream",
     "text": [
      "98\n",
      "Sample: 40 = True in ((((((((((((((((((((((((((((((((((((((((((((((((((((((((((((((((((((((((((((((((-40 ∨ (32 ∨ -20)) ∧ (37 ∨ (-24 ∨ 5))) ∧ (35 ∨ (23 ∨ -1))) ∧ (-29 ∨ (27 ∨ 24))) ∧ (33 ∨ (-26 ∨ 12))) ∧ (17 ∨ (-11 ∨ 7))) ∧ (-39 ∨ (28 ∨ 27))) ∧ (19 ∨ (10 ∨ -1))) ∧ (23 ∨ (22 ∨ -2))) ∧ (-18 ∨ (-8 ∨ 5))) ∧ (-31 ∨ (23 ∨ 18))) ∧ (35 ∨ (-34 ∨ 7))) ∧ (-35 ∨ (22 ∨ 11))) ∧ (17 ∨ (-13 ∨ -1))) ∧ (-32 ∨ (-17 ∨ -6))) ∧ (32 ∨ (26 ∨ 18))) ∧ (-29 ∨ (-25 ∨ -7))) ∧ (-40 ∨ (38 ∨ 37))) ∧ (-31 ∨ (11 ∨ 3))) ∧ (40 ∨ (36 ∨ -9))) ∧ (-37 ∨ (20 ∨ -2))) ∧ (-21 ∨ (10 ∨ -3))) ∧ (-19 ∨ (13 ∨ 9))) ∧ (22 ∨ (3 ∨ -1))) ∧ (22 ∨ (15 ∨ -1))) ∧ (-39 ∨ (-35 ∨ -25))) ∧ (33 ∨ (28 ∨ 9))) ∧ (28 ∨ (-19 ∨ -6))) ∧ (35 ∨ (-14 ∨ -4))) ∧ (33 ∨ (-21 ∨ -11))) ∧ (-14 ∨ (-11 ∨ 10))) ∧ (-40 ∨ (37 ∨ 26))) ∧ (34 ∨ (28 ∨ 3))) ∧ (31 ∨ (21 ∨ 7))) ∧ (31 ∨ (21 ∨ -18))) ∧ (22 ∨ (-14 ∨ 11))) ∧ (-33 ∨ (-13 ∨ 7))) ∧ (-9 ∨ (-2 ∨ -1))) ∧ (30 ∨ (10 ∨ 6))) ∧ (-33 ∨ (-7 ∨ 3))) ∧ (-40 ∨ (25 ∨ -19))) ∧ (33 ∨ (-24 ∨ 16))) ∧ (-19 ∨ (-9 ∨ 2))) ∧ (-23 ∨ (7 ∨ 3))) ∧ (40 ∨ (-36 ∨ 14))) ∧ (-35 ∨ (-30 ∨ 2))) ∧ (-32 ∨ (-13 ∨ -5))) ∧ (32 ∨ (-10 ∨ 1))) ∧ (-28 ∨ (-7 ∨ 3))) ∧ (-35 ∨ (24 ∨ 17))) ∧ (-40 ∨ (34 ∨ -23))) ∧ (-32 ∨ (-30 ∨ 29))) ∧ (-37 ∨ (12 ∨ -9))) ∧ (-32 ∨ (-30 ∨ 11))) ∧ (37 ∨ (-27 ∨ 21))) ∧ (30 ∨ (-17 ∨ 5))) ∧ (-19 ∨ (13 ∨ -9))) ∧ (-40 ∨ (-16 ∨ -8))) ∧ (-21 ∨ (-15 ∨ 5))) ∧ (30 ∨ (22 ∨ 14))) ∧ (23 ∨ (14 ∨ 2))) ∧ (38 ∨ (-30 ∨ 25))) ∧ (-40 ∨ (21 ∨ 8))) ∧ (-34 ∨ (-8 ∨ 4))) ∧ (36 ∨ (28 ∨ -22))) ∧ (-30 ∨ (15 ∨ -1))) ∧ (29 ∨ (7 ∨ -6))) ∧ (-40 ∨ (13 ∨ -6))) ∧ (35 ∨ (-23 ∨ 15))) ∧ (-36 ∨ (7 ∨ -2))) ∧ (37 ∨ (-31 ∨ 22))) ∧ (39 ∨ (24 ∨ 10))) ∧ (-28 ∨ (-15 ∨ -2))) ∧ (32 ∨ (-4 ∨ -3))) ∧ (-40 ∨ (25 ∨ -7))) ∧ (-33 ∨ (-24 ∨ 12))) ∧ (-37 ∨ (-16 ∨ 6))) ∧ (-37 ∨ (-11 ∨ 10))) ∧ (14 ∨ (-13 ∨ -2))) ∧ (39 ∨ (31 ∨ 5)))\n"
     ]
    }
   ],
   "source": [
    "# Load data.\n",
    "\n",
    "import pickle\n",
    "from satml import expression\n",
    "\n",
    "DATA_FILE = 'data/sr4.pickle'\n",
    "# This need not be constant for some models...\n",
    "NUM_VARIABLES = 40\n",
    "\n",
    "with open(DATA_FILE, 'rb') as f:\n",
    "    decisions = pickle.load(f)\n",
    "\n",
    "assert decisions is not None\n",
    "print(len(decisions))\n",
    "\n",
    "formula, (var, assignment) = decisions[0]\n",
    "print(\"Sample: {} = {} in {}\".format(var, assignment, expression.pprint(formula)))"
   ]
  },
  {
   "cell_type": "code",
   "execution_count": 29,
   "metadata": {},
   "outputs": [
    {
     "name": "stdout",
     "output_type": "stream",
     "text": [
      "[40 24  4  6 18 28 40 14 31 24 40 24 16 35  5 28 19 19  5 29  5 27 31 32\n",
      " 33 33 21 14 24 38  2  2 36 35  3 18  6 11 38 35 23 36 24 23 38  8 14 15\n",
      "  8 33 40 17 26  7 24 11 11 39 32 11  9 30 10 23 11 29 35 18 11 31 32 21\n",
      " 25 40 28 24 16 27 28 18 32 26 28 18 24 37  4 34  7 18  4  1  3 30  9  5\n",
      " 30 22]\n"
     ]
    }
   ],
   "source": [
    "# Some exploratory analysis.\n",
    "%matplotlib inline\n",
    "\n",
    "import matplotlib.pyplot as plt\n",
    "import numpy as np\n",
    "\n",
    "picked_vars, picked_assignments = zip(*((int(var), int(assignment)) for _, (var, assignment) in decisions))\n",
    "picked_vars, picked_assignments = np.array(picked_vars), np.array(picked_assignments)\n",
    "\n",
    "print(picked_vars)"
   ]
  },
  {
   "cell_type": "code",
   "execution_count": 30,
   "metadata": {},
   "outputs": [
    {
     "data": {
      "image/png": "[encoded data removed]",
      "text/plain": [
       "<Figure size 432x288 with 1 Axes>"
      ]
     },
     "metadata": {
      "needs_background": "light"
     },
     "output_type": "display_data"
    }
   ],
   "source": [
    "plt.hist(picked_vars, NUM_VARIABLES)\n",
    "plt.title('Best variables')\n",
    "plt.show()"
   ]
  },
  {
   "cell_type": "code",
   "execution_count": 31,
   "metadata": {},
   "outputs": [
    {
     "data": {
      "image/png": "[encoded data removed]",
      "text/plain": [
       "<Figure size 432x288 with 1 Axes>"
      ]
     },
     "metadata": {
      "needs_background": "light"
     },
     "output_type": "display_data"
    }
   ],
   "source": [
    "plt.hist(picked_assignments, 2)\n",
    "plt.title('Assignments')\n",
    "plt.show()"
   ]
  },
  {
   "cell_type": "code",
   "execution_count": null,
   "metadata": {},
   "outputs": [],
   "source": []
  }
 ],
 "metadata": {
  "kernelspec": {
   "display_name": "Python 3",
   "language": "python",
   "name": "python3"
  },
  "language_info": {
   "codemirror_mode": {
    "name": "ipython",
    "version": 3
   },
   "file_extension": ".py",
   "mimetype": "text/x-python",
   "name": "python",
   "nbconvert_exporter": "python",
   "pygments_lexer": "ipython3",
   "version": "3.7.4"
  }
 },
 "nbformat": 4,
 "nbformat_minor": 2
}
